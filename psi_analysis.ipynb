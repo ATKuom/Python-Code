{
 "cells": [
  {
   "cell_type": "code",
   "execution_count": null,
   "metadata": {},
   "outputs": [
    {
     "name": "stdout",
     "output_type": "stream",
     "text": [
      "3121\n",
      "2996\n",
      "1669\n",
      "1669 1669\n",
      "Optimization Results: 1480 1669\n",
      "Good layouts 1123\n",
      "[2689]\n"
     ]
    }
   ],
   "source": [
    "from thermo_validity import validity\n",
    "import numpy as np\n",
    "cutoff = 143.957\n",
    "# cutoff = np.inf\n",
    "p_dataset = np.load(\"GPT_NA_psitest/M2_data_8.npy\", allow_pickle=True)\n",
    "generated = np.load(\"GPT_NA_psitest/psiphi_generated_M2_8_aug_144_10max_1.npy\",allow_pickle=True)\n",
    "results = np.load(\"GPT_NA_psitest/results_candidates_8_psi_aug_144_10max1.npy\")\n",
    "print(len(p_dataset))\n",
    "valid = validity(generated)\n",
    "print(len(valid))\n",
    "unique = np.unique(valid)\n",
    "print(len(unique))\n",
    "datalist = unique\n",
    "# n_dataset = np.unique(np.concatenate((p_dataset, unique), axis=0))\n",
    "# datalist = n_dataset[np.where(np.isin(n_dataset, p_dataset, invert=True))[0]]\n",
    "print(len(datalist), len(results))\n",
    "nonzero_results = results[np.where(results > 0)]\n",
    "good_layouts = []\n",
    "good_results = []\n",
    "print(\"Optimization Results:\", len(nonzero_results), len(results))\n",
    "for i in range(len(results)):\n",
    "    if results[i] < cutoff and results[i] > 0:\n",
    "        good_layouts.append(datalist[i])\n",
    "        good_results.append(results[i])\n",
    "print(\"Good layouts\", len(good_layouts))\n",
    "good_layouts = np.asanyarray(good_layouts)\n",
    "good_results = np.asanyarray(good_results)\n",
    "indices = np.argsort(good_results)\n",
    "sorted_results = good_results[indices]\n",
    "sorted_layouts = good_layouts[indices]"
   ]
  },
  {
   "cell_type": "code",
   "execution_count": null,
   "metadata": {},
   "outputs": [],
   "source": []
  }
 ],
 "metadata": {
  "kernelspec": {
   "display_name": ".venv",
   "language": "python",
   "name": "python3"
  },
  "language_info": {
   "codemirror_mode": {
    "name": "ipython",
    "version": 3
   },
   "file_extension": ".py",
   "mimetype": "text/x-python",
   "name": "python",
   "nbconvert_exporter": "python",
   "pygments_lexer": "ipython3",
   "version": "3.11.9"
  }
 },
 "nbformat": 4,
 "nbformat_minor": 2
}
