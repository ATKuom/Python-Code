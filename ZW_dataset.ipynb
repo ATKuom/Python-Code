{
 "cells": [
  {
   "cell_type": "code",
   "execution_count": 52,
   "metadata": {},
   "outputs": [],
   "source": [
    "from ZW_dataset import *"
   ]
  },
  {
   "cell_type": "code",
   "execution_count": 53,
   "metadata": {},
   "outputs": [],
   "source": [
    "from config import DATA_DIRECTORY\n",
    "std_classes = [\"G\", \"T\", \"A\", \"C\", \"H\", \"a\", \"b\", \"1\", \"2\", \"-1\", \"-2\", \"E\"]\n",
    "datapath = DATA_DIRECTORY / \"v21D0_m1.npy\"\n",
    "data = np.load(datapath, allow_pickle=True)"
   ]
  },
  {
   "cell_type": "code",
   "execution_count": 54,
   "metadata": {},
   "outputs": [],
   "source": [
    "class contextGPTDataset(Dataset):\n",
    "    def __init__(self, data, classes, block_size, training_type=\"standard\"):\n",
    "        self.base = data\n",
    "        print(\"Designs in the dataset:\", len(self.base))\n",
    "        self.data = data\n",
    "        self.classes = classes\n",
    "        # Integer encoding\n",
    "        self.data = string_to_equipment(self.data, self.classes)\n",
    "        if training_type == \"augmented\":\n",
    "            self.data = self.augment_data(self.data)\n",
    "            print(\"Data augmented:\", len(self.data) - len(self.base))\n",
    "        for i in self.data:\n",
    "            l = len(i)\n",
    "            i.insert(0,l)\n",
    "        self.data = torch.tensor([i + [11] * (block_size - len(i)) for i in self.data])\n",
    "        # input output preparation\n",
    "        self.data, self.labels = self.input_output_prep(self.data)\n",
    "        # Output classes\n",
    "        print(\"Input shape:\", self.data.shape)\n",
    "\n",
    "    def __len__(self):\n",
    "        return len(self.data)\n",
    "\n",
    "    def __getitem__(self, idx):\n",
    "        return self.data[idx], self.labels[idx]\n",
    "\n",
    "    def input_output_prep(self, data):\n",
    "        inputs = data[:, :-1]\n",
    "        outputs = data[:, 1:]\n",
    "        return inputs, outputs\n",
    "\n",
    "    def augment_data(self, data):\n",
    "        augmented = []\n",
    "        for i in data:\n",
    "            base = np.array(i)\n",
    "            nognoe = base[1:-1]\n",
    "            for j in range(1, len(nognoe)):\n",
    "                new_rep = np.roll(nognoe, j, axis=0)\n",
    "                augmented.append(\n",
    "                    np.concatenate((base[0:1], new_rep, base[-1:]), axis=0).tolist()\n",
    "                )\n",
    "        return data + augmented"
   ]
  }
 ],
 "metadata": {
  "kernelspec": {
   "display_name": ".venv",
   "language": "python",
   "name": "python3"
  },
  "language_info": {
   "codemirror_mode": {
    "name": "ipython",
    "version": 3
   },
   "file_extension": ".py",
   "mimetype": "text/x-python",
   "name": "python",
   "nbconvert_exporter": "python",
   "pygments_lexer": "ipython3",
   "version": "3.11.9"
  }
 },
 "nbformat": 4,
 "nbformat_minor": 2
}
