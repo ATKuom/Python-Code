{
 "cells": [
  {
   "cell_type": "code",
   "execution_count": 2,
   "metadata": {},
   "outputs": [],
   "source": [
    "import numpy as np\n",
    "import torch\n",
    "from config import DATA_DIRECTORY\n",
    "from torch.utils.data import Dataset\n",
    "from split_functions import string_to_equipment\n",
    "from ZW_utils import std_classes\n",
    "\n",
    "results = np.load(DATA_DIRECTORY / \"v22DF_m2_sorted_results.npy\", allow_pickle=True)\n",
    "layouts = np.load(DATA_DIRECTORY / \"v22DF_m2_sorted_layouts.npy\", allow_pickle=True)"
   ]
  },
  {
   "cell_type": "code",
   "execution_count": 51,
   "metadata": {},
   "outputs": [],
   "source": [
    "class PSI_Dataset(Dataset):\n",
    "    \"\"\"\n",
    "    Design dataset(numpy array) and results (numpy array) is taken as input\n",
    "    Outputs: torch tensor of design and same shape of result tensor\n",
    "    \"\"\"\n",
    "    def __init__(self, data, results,classes,block_size, training_type=\"standard\"):\n",
    "        self.base = data\n",
    "        print(\"Designs in the dataset:\", len(self.base))\n",
    "        self.data = data\n",
    "        self.results = results\n",
    "        self.classes = classes\n",
    "        self.data = string_to_equipment(self.data, self.classes)\n",
    "        if training_type == \"augmented\":\n",
    "            self.data, self.results = self.augment_data(self.data,self.results)\n",
    "            print(\"Data augmented:\", len(self.data) - len(self.base))\n",
    "        self.data = torch.tensor([i + [11] * (block_size - len(i)) for i in self.data])\n",
    "        self.labels = self.output_prep(self.data,self.results)\n",
    "        print(\"Input shape:\", self.data.shape, \"Output shape:\", self.labels.shape)\n",
    "\n",
    "    def __len__(self):\n",
    "        return len(self.data)\n",
    "    \n",
    "    def __getitem__(self, idx):\n",
    "        return self.data[idx], self.labels[idx]\n",
    "    \n",
    "    def augment_data(self, designs,rs):\n",
    "        augmented = []\n",
    "        augmented_results = []\n",
    "        for i,design in enumerate(designs):\n",
    "            original = np.array(design)\n",
    "            nognoe = original[1:-1]\n",
    "            for j in range(1, len(nognoe)):\n",
    "                new_rep = np.roll(nognoe, j, axis=0)\n",
    "                augmented.append(\n",
    "                    np.concatenate((original[0:1], new_rep, original[-1:]), axis=0).tolist()\n",
    "                )\n",
    "                augmented_results.append(rs[i])\n",
    "        return designs + augmented,rs.tolist()+augmented_results\n",
    "    \n",
    "    def output_prep(self, data,results):\n",
    "        outputs = []\n",
    "        for layout,result in zip(data,results):\n",
    "            outputs.append(torch.tensor([[result]*i for i in layout.shape]).flatten())\n",
    "        outputs = torch.stack(outputs)\n",
    "        return outputs\n",
    "            \n",
    "        "
   ]
  },
  {
   "cell_type": "code",
   "execution_count": 52,
   "metadata": {},
   "outputs": [
    {
     "name": "stdout",
     "output_type": "stream",
     "text": [
      "Designs in the dataset: 2041\n",
      "Data augmented: 23776\n",
      "Input shape: torch.Size([25817, 22]) Output shape: torch.Size([25817, 22])\n"
     ]
    },
    {
     "data": {
      "text/plain": [
       "(tensor([ 0,  7,  4,  1,  5,  2,  3,  9,  5,  7,  4,  1,  4, 11, 11, 11, 11, 11,\n",
       "         11, 11, 11, 11]),\n",
       " tensor([127.6508, 127.6508, 127.6508, 127.6508, 127.6508, 127.6508, 127.6508,\n",
       "         127.6508, 127.6508, 127.6508, 127.6508, 127.6508, 127.6508, 127.6508,\n",
       "         127.6508, 127.6508, 127.6508, 127.6508, 127.6508, 127.6508, 127.6508,\n",
       "         127.6508], dtype=torch.float64),\n",
       " torch.Size([22]),\n",
       " torch.Size([22]))"
      ]
     },
     "execution_count": 52,
     "metadata": {},
     "output_type": "execute_result"
    }
   ],
   "source": [
    "a = PSI_Dataset(layouts, results, std_classes, 22, training_type=\"augmented\")\n"
   ]
  },
  {
   "cell_type": "code",
   "execution_count": 13,
   "metadata": {},
   "outputs": [
    {
     "name": "stdout",
     "output_type": "stream",
     "text": [
      "Designs in the dataset: 2\n",
      "Data augmented: 21\n",
      "Input shape: torch.Size([23, 21])\n"
     ]
    },
    {
     "data": {
      "text/plain": [
       "(tensor([ 0,  7,  4,  1,  5,  2,  3,  9,  5,  7,  4,  1,  4, 11, 11, 11, 11, 11,\n",
       "         11, 11, 11]),\n",
       " tensor([ 7,  4,  1,  5,  2,  3,  9,  5,  7,  4,  1,  4, 11, 11, 11, 11, 11, 11,\n",
       "         11, 11, 11]),\n",
       " torch.Size([21]))"
      ]
     },
     "execution_count": 13,
     "metadata": {},
     "output_type": "execute_result"
    }
   ],
   "source": [
    "from ZW_dataset import GPTDataset\n",
    "b = GPTDataset(layouts[:2], std_classes, 22, training_type=\"augmented\")\n",
    "b.data[0],b.labels[0], b.data[0].shape"
   ]
  }
 ],
 "metadata": {
  "kernelspec": {
   "display_name": ".venv",
   "language": "python",
   "name": "python3"
  },
  "language_info": {
   "codemirror_mode": {
    "name": "ipython",
    "version": 3
   },
   "file_extension": ".py",
   "mimetype": "text/x-python",
   "name": "python",
   "nbconvert_exporter": "python",
   "pygments_lexer": "ipython3",
   "version": "3.11.9"
  }
 },
 "nbformat": 4,
 "nbformat_minor": 2
}
