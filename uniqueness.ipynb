{
 "cells": [
  {
   "cell_type": "code",
   "execution_count": 8,
   "metadata": {},
   "outputs": [
    {
     "name": "stdout",
     "output_type": "stream",
     "text": [
      "2041\n",
      "(1967,)\n"
     ]
    }
   ],
   "source": [
    "import numpy as np\n",
    "import config\n",
    "designs = np.load(config.DATA_DIRECTORY/\"v22DF_m2_sorted_layouts.npy\", allow_pickle=True)\n",
    "print(len(designs))\n",
    "# designs = [\"GTACHE\",\"GACHTE\",\"GCHTAE\",\"GHTACE\"]\n",
    "from split_functions import string_to_equipment,enforced_uniqueness\n",
    "equipments = string_to_equipment(designs)\n",
    "design,equipments = enforced_uniqueness(equipments)\n",
    "print(np.unique(np.array(equipments, dtype=object)).shape)\n"
   ]
  }
 ],
 "metadata": {
  "kernelspec": {
   "display_name": ".venv",
   "language": "python",
   "name": "python3"
  },
  "language_info": {
   "codemirror_mode": {
    "name": "ipython",
    "version": 3
   },
   "file_extension": ".py",
   "mimetype": "text/x-python",
   "name": "python",
   "nbconvert_exporter": "python",
   "pygments_lexer": "ipython3",
   "version": "3.11.9"
  }
 },
 "nbformat": 4,
 "nbformat_minor": 2
}
