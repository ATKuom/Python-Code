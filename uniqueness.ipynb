{
 "cells": [
  {
   "cell_type": "code",
   "execution_count": null,
   "metadata": {},
   "outputs": [],
   "source": [
    "import numpy as np\n",
    "import config\n",
    "designs = np.load(config.DATA_DIRECTORY/\"v21_4th_DF_m2_layouts.npy\", allow_pickle=True)\n",
    "# designs = np.load(\"GPT_NA_to_A/generated_M2_3.npy\",allow_pickle=True)\n",
    "print(len(designs))\n",
    "# designs = [\"GTACHE\",\"GACHTE\",\"GCHTAE\",\"GHTACE\"]\n",
    "from split_functions import string_to_equipment,enforced_uniqueness\n",
    "equipments = string_to_equipment(designs)\n",
    "designs,equipments = enforced_uniqueness(equipments)\n",
    "print(np.unique(np.array(equipments, dtype=object)).shape)\n"
   ]
  },
  {
   "cell_type": "code",
   "execution_count": null,
   "metadata": {},
   "outputs": [],
   "source": [
    "from data_analysis import splthxnmbrcheck\n",
    "total, splitter, hx, both, ed, edlist = splthxnmbrcheck(designs)\n",
    "print(\n",
    "    total, splitter / total * 100, hx / total * 100, both / total * 100, ed, edlist\n",
    ")"
   ]
  },
  {
   "cell_type": "code",
   "execution_count": null,
   "metadata": {},
   "outputs": [],
   "source": [
    "equipments\n",
    "pos_equipment = set()\n",
    "for equipment in equipments:\n",
    "    for i,u in enumerate(equipment):\n",
    "        pos_equipment.add((i,u))\n",
    "equipment_matrix = np.zeros((22,12))\n",
    "for i,u in pos_equipment:\n",
    "    equipment_matrix[i,u] = 1\n",
    "print(equipment_matrix)"
   ]
  },
  {
   "cell_type": "code",
   "execution_count": null,
   "metadata": {},
   "outputs": [],
   "source": [
    "import numpy as np\n",
    "import config\n",
    "from split_functions import uniqueness_check\n",
    "designs = np.load(config.DATA_DIRECTORY/\"v21_4th_DF_m2_layouts.npy\", allow_pickle=True)\n",
    "results = np.load(config.DATA_DIRECTORY/\"v21_4th_DF_m2_results.npy\", allow_pickle=True)\n",
    "print(len(designs),len(results))\n",
    "d2,r2 = [],[]\n",
    "cutoff = 143.957\n",
    "for i,r in enumerate(results):\n",
    "    if r > 0:\n",
    "        d2.append(designs[i])\n",
    "        r2.append(r)\n",
    "designs = d2\n",
    "results = r2\n",
    "print(len(designs),len(results))\n",
    "designs,equipments = uniqueness_check(designs)\n",
    "# equipment_matrix = np.zeros((22,12))\n",
    "# cost_matrix = np.zeros((22,12))\n",
    "# for j,equipment in enumerate(equipments):\n",
    "#     for i,u in enumerate(equipment):\n",
    "#         equipment_matrix[i,u] += 1\n",
    "#         cost_matrix[i,u] += results[j]\n",
    "# mean_cost_matrix = cost_matrix/equipment_matrix\n",
    "# mean_cost_matrix = np.nan_to_num(mean_cost_matrix, nan=1)\n",
    "# mean_cost_matrix\n",
    "# import pandas as pd\n",
    "# df = pd.DataFrame(mean_cost_matrix)\n",
    "# df.to_excel(\"mean_cost_matrix2.xlsx\")"
   ]
  },
  {
   "cell_type": "code",
   "execution_count": null,
   "metadata": {},
   "outputs": [],
   "source": [
    "from split_functions import dataset_combination\n",
    "import config\n",
    "dataset_combination(100,\"v21_4th_\",config.DATA_DIRECTORY,\"goodlayouts\",True)"
   ]
  }
 ],
 "metadata": {
  "kernelspec": {
   "display_name": ".venv",
   "language": "python",
   "name": "python3"
  },
  "language_info": {
   "codemirror_mode": {
    "name": "ipython",
    "version": 3
   },
   "file_extension": ".py",
   "mimetype": "text/x-python",
   "name": "python",
   "nbconvert_exporter": "python",
   "pygments_lexer": "ipython3",
   "version": "3.11.9"
  }
 },
 "nbformat": 4,
 "nbformat_minor": 2
}
