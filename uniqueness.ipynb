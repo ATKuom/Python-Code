{
 "cells": [
  {
   "cell_type": "code",
   "execution_count": 96,
   "metadata": {},
   "outputs": [
    {
     "name": "stdout",
     "output_type": "stream",
     "text": [
      "3000\n",
      "(1718,)\n"
     ]
    }
   ],
   "source": [
    "import numpy as np\n",
    "import config\n",
    "# designs = np.load(config.DATA_DIRECTORY/\"v21_2th_DF_m2_layouts.npy\", allow_pickle=True)\n",
    "designs = np.load(\"GPT_NA_to_A/generated_M2_3.npy\",allow_pickle=True)\n",
    "print(len(designs))\n",
    "# designs = [\"GTACHE\",\"GACHTE\",\"GCHTAE\",\"GHTACE\"]\n",
    "from split_functions import string_to_equipment,enforced_uniqueness\n",
    "equipments = string_to_equipment(designs)\n",
    "designs,equipments = enforced_uniqueness(equipments)\n",
    "print(np.unique(np.array(equipments, dtype=object)).shape)"
   ]
  },
  {
   "cell_type": "code",
   "execution_count": null,
   "metadata": {},
   "outputs": [],
   "source": [
    "from data_analysis import splthxnmbrcheck\n",
    "total, splitter, hx, both, ed, edlist = splthxnmbrcheck(designs)\n",
    "print(\n",
    "    total, splitter / total * 100, hx / total * 100, both / total * 100, ed, edlist\n",
    ")"
   ]
  },
  {
   "cell_type": "code",
   "execution_count": null,
   "metadata": {},
   "outputs": [],
   "source": [
    "equipments\n",
    "pos_equipment = set()\n",
    "for equipment in equipments:\n",
    "    for i,u in enumerate(equipment):\n",
    "        pos_equipment.add((i,u))\n",
    "equipment_matrix = np.zeros((22,12))\n",
    "for i,u in pos_equipment:\n",
    "    equipment_matrix[i,u] = 1\n",
    "print(equipment_matrix)"
   ]
  },
  {
   "cell_type": "code",
   "execution_count": 5,
   "metadata": {},
   "outputs": [
    {
     "name": "stdout",
     "output_type": "stream",
     "text": [
      "9779 9779\n",
      "1552 1552\n"
     ]
    },
    {
     "name": "stderr",
     "output_type": "stream",
     "text": [
      "C:\\Users\\m85830ak\\AppData\\Local\\Temp\\ipykernel_10980\\1829220697.py:23: RuntimeWarning: invalid value encountered in divide\n",
      "  mean_cost_matrix = cost_matrix/equipment_matrix\n"
     ]
    },
    {
     "data": {
      "text/plain": [
       "array([[235.05810107,   1.        ,   1.        ,   1.        ,\n",
       "          1.        ,   1.        ,   1.        ,   1.        ,\n",
       "          1.        ,   1.        ,   1.        ,   1.        ],\n",
       "       [  1.        , 235.05810107,   1.        ,   1.        ,\n",
       "          1.        ,   1.        ,   1.        ,   1.        ,\n",
       "          1.        ,   1.        ,   1.        ,   1.        ],\n",
       "       [  1.        ,   1.        , 230.21393068, 237.38332589,\n",
       "        237.79992779, 243.28148173,   1.        , 230.54514494,\n",
       "          1.        , 423.78366558,   1.        ,   1.        ],\n",
       "       [  1.        , 219.23035278, 271.21130375, 227.42316733,\n",
       "        239.61707007, 240.27986948,   1.        , 221.35250573,\n",
       "          1.        , 225.92745734,   1.        ,   1.        ],\n",
       "       [  1.        , 215.95158328, 235.31178728, 243.54674823,\n",
       "        238.95963387, 227.42606805,   1.        , 228.43655636,\n",
       "          1.        , 268.55368264,   1.        ,   1.        ],\n",
       "       [  1.        , 234.6752395 , 240.65574114, 230.59141157,\n",
       "        242.44360702, 237.67554252,   1.        , 230.23263426,\n",
       "          1.        , 220.85701344,   1.        ,   1.        ],\n",
       "       [  1.        , 208.74665621, 233.56706378, 227.96684767,\n",
       "        260.82432297, 240.53157533,   1.        , 234.84695595,\n",
       "          1.        , 233.98467905,   1.        ,   1.        ],\n",
       "       [  1.        , 212.16056876, 250.19055628, 241.91760866,\n",
       "        231.61135689, 222.31046998,   1.        , 252.11341454,\n",
       "          1.        , 224.84448254,   1.        , 257.52200745],\n",
       "       [  1.        , 237.84457329, 221.45529505, 231.29647627,\n",
       "        237.41640564, 254.78603071,   1.        , 237.1843482 ,\n",
       "          1.        , 222.33756356,   1.        , 221.47342946],\n",
       "       [  1.        , 211.49275646, 245.11279057, 222.74416797,\n",
       "        241.34093046, 244.59320476,   1.        , 231.51539717,\n",
       "          1.        , 240.62349373,   1.        , 268.09727397],\n",
       "       [  1.        , 242.95785173, 229.06433989, 225.36916349,\n",
       "        232.81568126, 241.15652464,   1.        , 218.10616932,\n",
       "          1.        , 232.56126513,   1.        , 286.84158368],\n",
       "       [  1.        , 208.51653801, 219.02929912, 231.22309158,\n",
       "        231.26764132, 227.60134276,   1.        , 273.85391102,\n",
       "          1.        , 224.83875071,   1.        , 223.58851842],\n",
       "       [  1.        , 233.429894  , 233.61389297, 239.15181429,\n",
       "        226.50869511, 218.18809353,   1.        , 234.12078638,\n",
       "          1.        , 219.12018476,   1.        , 257.43466788],\n",
       "       [  1.        , 225.77805561, 222.72547775, 218.39889491,\n",
       "        219.27599942, 255.29012199,   1.        , 224.10445256,\n",
       "          1.        , 215.65966109,   1.        , 252.75420434],\n",
       "       [  1.        , 214.99505897, 236.00885861, 223.03592813,\n",
       "        219.70945611, 226.0942463 ,   1.        , 235.91504786,\n",
       "          1.        , 225.56284386,   1.        , 228.20728049],\n",
       "       [  1.        , 205.57485611, 233.8499325 , 221.00576276,\n",
       "        227.8751883 , 242.23286198,   1.        , 213.08638885,\n",
       "          1.        , 250.68386926,   1.        , 221.90222766],\n",
       "       [  1.        , 211.16483266, 223.62091732, 220.8354422 ,\n",
       "        230.20869078, 225.81327511,   1.        , 215.86552902,\n",
       "          1.        , 215.48317703,   1.        , 237.27947511],\n",
       "       [  1.        , 229.97605944, 250.32702271, 244.35990718,\n",
       "        233.41336136, 219.50237969,   1.        , 186.40401381,\n",
       "          1.        , 236.42346841,   1.        , 217.16365745],\n",
       "       [  1.        , 285.88713983, 215.7539455 , 225.81072308,\n",
       "        229.05845101, 207.16815269,   1.        , 219.90498146,\n",
       "          1.        , 294.48062728,   1.        , 220.02380034],\n",
       "       [  1.        ,   1.        ,   1.        , 167.8630418 ,\n",
       "        301.31629522, 248.66907025,   1.        , 235.08238795,\n",
       "          1.        , 179.87785827,   1.        , 234.32488952],\n",
       "       [  1.        ,   1.        ,   1.        ,   1.        ,\n",
       "          1.        ,   1.        ,   1.        ,   1.        ,\n",
       "          1.        ,   1.        ,   1.        , 250.35503796],\n",
       "       [  1.        ,   1.        ,   1.        ,   1.        ,\n",
       "          1.        ,   1.        ,   1.        ,   1.        ,\n",
       "          1.        ,   1.        ,   1.        ,   1.        ]])"
      ]
     },
     "execution_count": 5,
     "metadata": {},
     "output_type": "execute_result"
    }
   ],
   "source": [
    "import numpy as np\n",
    "import config\n",
    "from split_functions import uniqueness_check\n",
    "designs = np.load(\"GPT_NA/initial_10k.npy\", allow_pickle=True)\n",
    "results = np.load(\"GPT_NA/results_initial_10k.npy\", allow_pickle=True)\n",
    "print(len(designs),len(results))\n",
    "d2,r2 = [],[]\n",
    "cutoff = 143.957\n",
    "for i,r in enumerate(results):\n",
    "    if r > 0 and r < cutoff:\n",
    "        d2.append(designs[i])\n",
    "        r2.append(r)\n",
    "designs = d2\n",
    "results = r2\n",
    "print(len(designs),len(results))\n",
    "designs,equipments = uniqueness_check(designs)\n",
    "equipment_matrix = np.zeros((22,12))\n",
    "cost_matrix = np.zeros((22,12))\n",
    "for j,equipment in enumerate(equipments):\n",
    "    for i,u in enumerate(equipment):\n",
    "        equipment_matrix[i,u] += 1\n",
    "        cost_matrix[i,u] += results[j]\n",
    "mean_cost_matrix = cost_matrix/equipment_matrix\n",
    "mean_cost_matrix = np.nan_to_num(mean_cost_matrix, nan=1)\n",
    "mean_cost_matrix\n",
    "# import pandas as pd\n",
    "# df = pd.DataFrame(mean_cost_matrix)\n",
    "# df.to_excel(\"mean_cost_matrix2.xlsx\")"
   ]
  },
  {
   "cell_type": "code",
   "execution_count": null,
   "metadata": {},
   "outputs": [],
   "source": [
    "from split_functions import dataset_combination\n",
    "import config\n",
    "dataset_combination(100,\"v21_4th_\",config.DATA_DIRECTORY,\"goodlayouts\",True)"
   ]
  }
 ],
 "metadata": {
  "kernelspec": {
   "display_name": ".venv",
   "language": "python",
   "name": "python3"
  },
  "language_info": {
   "codemirror_mode": {
    "name": "ipython",
    "version": 3
   },
   "file_extension": ".py",
   "mimetype": "text/x-python",
   "name": "python",
   "nbconvert_exporter": "python",
   "pygments_lexer": "ipython3",
   "version": "3.11.9"
  }
 },
 "nbformat": 4,
 "nbformat_minor": 2
}
