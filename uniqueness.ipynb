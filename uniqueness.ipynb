{
 "cells": [
  {
   "cell_type": "code",
   "execution_count": null,
   "metadata": {},
   "outputs": [],
   "source": [
    "import numpy as np\n",
    "import config\n",
    "designs = np.load(config.DATA_DIRECTORY/\"v21_1/v21_1th_D24_m2.npy\", allow_pickle=True)\n",
    "# designs = np.load(\"GPT_A/M2_data_1.npy\",allow_pickle=True)\n",
    "print(len(designs))\n",
    "# designs = [\"GTACHE\",\"GACHTE\",\"GCHTAE\",\"GHTACE\"]\n",
    "from split_functions import string_to_equipment,enforced_uniqueness\n",
    "equipments = string_to_equipment(designs)\n",
    "design,equipments = enforced_uniqueness(equipments)\n",
    "print(np.unique(np.array(equipments, dtype=object)).shape)\n"
   ]
  },
  {
   "cell_type": "code",
   "execution_count": null,
   "metadata": {},
   "outputs": [],
   "source": [
    "from data_analysis import splthxnmbrcheck\n",
    "total, splitter, hx, both, ed, edlist = splthxnmbrcheck(design)\n",
    "print(\n",
    "    total, splitter / total * 100, hx / total * 100, both / total * 100, ed, edlist\n",
    ")"
   ]
  },
  {
   "cell_type": "code",
   "execution_count": null,
   "metadata": {},
   "outputs": [],
   "source": [
    "from split_functions import dataset_combination\n",
    "import config\n",
    "dataset_combination(1000,\"v21_1th_\",config.DATA_DIRECTORY/\"v21_1\",\"goodlayouts\")"
   ]
  }
 ],
 "metadata": {
  "kernelspec": {
   "display_name": ".venv",
   "language": "python",
   "name": "python3"
  },
  "language_info": {
   "codemirror_mode": {
    "name": "ipython",
    "version": 3
   },
   "file_extension": ".py",
   "mimetype": "text/x-python",
   "name": "python",
   "nbconvert_exporter": "python",
   "pygments_lexer": "ipython3",
   "version": "3.11.9"
  }
 },
 "nbformat": 4,
 "nbformat_minor": 2
}
