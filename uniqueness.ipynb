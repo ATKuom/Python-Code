{
 "cells": [
  {
   "cell_type": "code",
   "execution_count": null,
   "metadata": {},
   "outputs": [
    {
     "name": "stdout",
     "output_type": "stream",
     "text": [
      "50000\n",
      "(49103,)\n"
     ]
    }
   ],
   "source": [
    "import numpy as np\n",
    "import config\n",
    "# designs = np.load(config.DATA_DIRECTORY/\"v21_2th_DF_m2_layouts.npy\", allow_pickle=True)\n",
    "designs = np.load(\"GPT_NA_to_A/M2_data_8.npy\",allow_pickle=True)\n",
    "print(len(designs))\n",
    "# designs = [\"GTACHE\",\"GACHTE\",\"GCHTAE\",\"GHTACE\"]\n",
    "from split_functions import string_to_equipment,enforced_uniqueness\n",
    "equipments = string_to_equipment(designs)\n",
    "designs,equipments = enforced_uniqueness(equipments)\n",
    "print(np.unique(np.array(equipments, dtype=object)).shape)"
   ]
  },
  {
   "cell_type": "code",
   "execution_count": null,
   "metadata": {},
   "outputs": [],
   "source": [
    "from data_analysis import splthxnmbrcheck\n",
    "total, splitter, hx, both, ed, edlist = splthxnmbrcheck(designs)\n",
    "print(\n",
    "    total, splitter / total * 100, hx / total * 100, both / total * 100, ed, edlist\n",
    ")"
   ]
  },
  {
   "cell_type": "code",
   "execution_count": null,
   "metadata": {},
   "outputs": [],
   "source": [
    "equipments\n",
    "pos_equipment = set()\n",
    "for equipment in equipments:\n",
    "    for i,u in enumerate(equipment):\n",
    "        pos_equipment.add((i,u))\n",
    "equipment_matrix = np.zeros((22,12))\n",
    "for i,u in pos_equipment:\n",
    "    equipment_matrix[i,u] = 1\n",
    "print(equipment_matrix)"
   ]
  },
  {
   "cell_type": "code",
   "execution_count": 95,
   "metadata": {},
   "outputs": [
    {
     "name": "stdout",
     "output_type": "stream",
     "text": [
      "9779 9779\n",
      "1552 1552\n"
     ]
    },
    {
     "name": "stderr",
     "output_type": "stream",
     "text": [
      "C:\\Users\\m85830ak\\AppData\\Local\\Temp\\ipykernel_10800\\781097718.py:23: RuntimeWarning: invalid value encountered in divide\n",
      "  mean_cost_matrix = cost_matrix/equipment_matrix\n"
     ]
    }
   ],
   "source": [
    "import numpy as np\n",
    "import config\n",
    "from split_functions import uniqueness_check\n",
    "designs = np.load(\"LSTM_initial_/initial_10k.npy\", allow_pickle=True)\n",
    "results = np.load(\"GPT_NA/results_initial_10k.npy\", allow_pickle=True)\n",
    "print(len(designs),len(results))\n",
    "d2,r2 = [],[]\n",
    "cutoff = 143.957\n",
    "for i,r in enumerate(results):\n",
    "    if r > 0:# and r < cutoff:\n",
    "        d2.append(designs[i])\n",
    "        r2.append(r)\n",
    "designs = d2\n",
    "results = r2\n",
    "print(len(designs),len(results))\n",
    "designs,equipments = uniqueness_check(designs)\n",
    "equipment_matrix = np.zeros((22,12))\n",
    "cost_matrix = np.zeros((22,12))\n",
    "for j,equipment in enumerate(equipments):\n",
    "    for i,u in enumerate(equipment):\n",
    "        equipment_matrix[i,u] += 1\n",
    "        cost_matrix[i,u] += results[j]\n",
    "mean_cost_matrix = cost_matrix/equipment_matrix\n",
    "mean_cost_matrix = np.nan_to_num(mean_cost_matrix, nan=1)\n",
    "mean_cost_matrix\n",
    "import pandas as pd\n",
    "df = pd.DataFrame(mean_cost_matrix)\n",
    "df.to_excel(\"trial.xlsx\")"
   ]
  },
  {
   "cell_type": "code",
   "execution_count": 81,
   "metadata": {},
   "outputs": [
    {
     "name": "stdout",
     "output_type": "stream",
     "text": [
      "9779 9779\n",
      "1552 1552\n"
     ]
    }
   ],
   "source": [
    "## ABCD s1 ABCF s2 ABC (s1+s2)/2\n",
    "import numpy as np\n",
    "import config\n",
    "from split_functions import uniqueness_check\n",
    "designs = np.load(\"GPT_NA/initial_10k.npy\", allow_pickle=True)\n",
    "results = np.load(\"GPT_NA/results_initial_10k.npy\", allow_pickle=True)\n",
    "print(len(designs),len(results))\n",
    "d2,r2 = [],[]\n",
    "cutoff = 143.957\n",
    "for i,r in enumerate(results):\n",
    "    if r > 0 :#and r < cutoff:\n",
    "        d2.append(designs[i])\n",
    "        r2.append(r)\n",
    "designs = d2\n",
    "results = r2\n",
    "print(len(designs),len(results))\n",
    "designs,equipments = uniqueness_check(designs)\n",
    "sorted_equipments = equipments.copy()\n",
    "sorted_equipments.sort()\n",
    "sorted_results = []\n",
    "for se in sorted_equipments:\n",
    "    index = equipments.index(se)\n",
    "    sorted_results.append(results[index])\n",
    "eq_array = np.zeros((len(sorted_equipments),22))\n",
    "for i,e in enumerate(sorted_equipments):\n",
    "    for j,u in enumerate(e):\n",
    "        eq_array[i,j] = u\n",
    "re_array = np.array(sorted_results)\n",
    "equipment_chunks = []\n",
    "results_chunks = []\n",
    "for equipment in sorted_equipments:\n",
    "    for i in range(len(equipment)):\n",
    "        candidate_chunk = equipment[:i+1]\n",
    "        if candidate_chunk not in equipment_chunks:\n",
    "            equipment_chunks.append(candidate_chunk)\n",
    "            #checking the same chunks in eq array\n",
    "            chunk_indices = np.where((eq_array[:,:i+1] == candidate_chunk).all(axis=1))[0]\n",
    "            chunk_results = np.mean(re_array[chunk_indices])\n",
    "            results_chunks.append(chunk_results)"
   ]
  },
  {
   "cell_type": "code",
   "execution_count": 92,
   "metadata": {},
   "outputs": [
    {
     "name": "stdout",
     "output_type": "stream",
     "text": [
      "13887 13887\n"
     ]
    }
   ],
   "source": [
    "# for e,r in zip(sorted_equipments,sorted_results):\n",
    "#     print(e,r)\n",
    "print (len(equipment_chunks),len(results_chunks))\n",
    "# for c,r in zip(equipment_chunks,results_chunks):\n",
    "    # print(c,r)"
   ]
  },
  {
   "cell_type": "code",
   "execution_count": null,
   "metadata": {},
   "outputs": [],
   "source": [
    "from split_functions import dataset_combination\n",
    "import config\n",
    "dataset_combination(100,\"v21_4th_\",config.DATA_DIRECTORY,\"goodlayouts\",True)"
   ]
  }
 ],
 "metadata": {
  "kernelspec": {
   "display_name": ".venv",
   "language": "python",
   "name": "python3"
  },
  "language_info": {
   "codemirror_mode": {
    "name": "ipython",
    "version": 3
   },
   "file_extension": ".py",
   "mimetype": "text/x-python",
   "name": "python",
   "nbconvert_exporter": "python",
   "pygments_lexer": "ipython3",
   "version": "3.11.9"
  }
 },
 "nbformat": 4,
 "nbformat_minor": 2
}
