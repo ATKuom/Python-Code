{
 "cells": [
  {
   "cell_type": "code",
   "execution_count": null,
   "id": "2c112e2e",
   "metadata": {},
   "outputs": [
    {
     "name": "stdout",
     "output_type": "stream",
     "text": [
      "841 841\n",
      "1719 1719\n",
      "2941 2941\n",
      "4178 4178\n",
      "5446 5446\n",
      "6715 6715\n",
      "7992 7992\n",
      "9402 9402\n",
      "Final number of layouts 10765\n",
      "Final number of results 10765\n"
     ]
    }
   ],
   "source": [
    "#Dataset Size\n",
    "import numpy as np\n",
    "from thermo_validity import validity\n",
    "save_path = \"LSTM_NA_1_5/\"\n",
    "max_dataset = 8\n",
    "good_layouts = []\n",
    "good_results = []\n",
    "cutoff = 130*1.5\n",
    "designs = np.load(save_path+f\"initial_10k.npy\", allow_pickle=True)\n",
    "results = np.load(save_path+f\"results_initial_10k.npy\", allow_pickle=True)\n",
    "for j in range(len(results)):\n",
    "    if results[j] < cutoff and results[j] > 0:\n",
    "        good_layouts.append(designs[j])\n",
    "        good_results.append(results[j])\n",
    "for i in range(max_dataset):\n",
    "    print(len(good_layouts), len(good_results))\n",
    "    results = np.load(save_path+f\"results_candidates_{i}.npy\", allow_pickle=True)\n",
    "    designs = np.load(save_path+f\"generated_M2_{i}.npy\", allow_pickle=True)\n",
    "    v_u = np.unique(validity(designs))\n",
    "    datalist = np.unique(np.concatenate((good_layouts, v_u), axis=0))\n",
    "    v_u_n = datalist[np.where(np.isin(datalist, good_layouts, invert=True))[0]]\n",
    "    v_u_n_results = results[np.where(np.isin(v_u_n, designs))[0]]\n",
    "    for j in range(len(v_u_n_results)):\n",
    "        if results[j] < cutoff and v_u_n_results[j] > 0:\n",
    "            good_layouts.append(v_u_n[j])\n",
    "            good_results.append(v_u_n_results[j])\n",
    "print(\"Final number of layouts\", len(good_layouts))\n",
    "print(\"Final number of results\", len(good_results))\n",
    "np.save(save_path+f\"M2_data_F{max_dataset}_results.npy\", good_results)\n",
    "np.save(save_path+f\"M2_data_F{max_dataset}_layouts.npy\", good_layouts)"
   ]
  },
  {
   "cell_type": "code",
   "execution_count": 32,
   "id": "91a6b11f",
   "metadata": {},
   "outputs": [
    {
     "name": "stdout",
     "output_type": "stream",
     "text": [
      "8.41\n",
      "29.3\n",
      "40.7\n",
      "41.2\n",
      "42.3\n",
      "42.3\n",
      "42.6\n",
      "47.0\n",
      "45.4\n",
      "Final number of layouts 10765\n",
      "Final number of results 10765\n"
     ]
    }
   ],
   "source": [
    "#Novelty\n",
    "import numpy as np\n",
    "from thermo_validity import validity\n",
    "save_path = \"LSTM_NA_1_5/\"\n",
    "max_dataset = 8\n",
    "good_layouts = []\n",
    "good_results = []\n",
    "cutoff = 130*1.5\n",
    "designs = np.load(save_path+f\"initial_10k.npy\", allow_pickle=True)\n",
    "results = np.load(save_path+f\"results_initial_10k.npy\", allow_pickle=True)\n",
    "for j in range(len(results)):\n",
    "    if results[j] < cutoff and results[j] > 0:\n",
    "        good_layouts.append(designs[j])\n",
    "        good_results.append(results[j])\n",
    "print(len(good_results)/10000*100)\n",
    "for i in range(max_dataset):\n",
    "    old_good_results = len(good_results)\n",
    "    results = np.load(save_path+f\"results_candidates_{i}.npy\", allow_pickle=True)\n",
    "    designs = np.load(save_path+f\"generated_M2_{i}.npy\", allow_pickle=True)\n",
    "    v_u = np.unique(validity(designs))\n",
    "    datalist = np.unique(np.concatenate((good_layouts, v_u), axis=0))\n",
    "    v_u_n = datalist[np.where(np.isin(datalist, good_layouts, invert=True))[0]]\n",
    "    v_u_n_results = results[np.where(np.isin(v_u_n, designs))[0]]\n",
    "    for j in range(len(v_u_n_results)):\n",
    "        if results[j] < cutoff and v_u_n_results[j] > 0:\n",
    "            good_layouts.append(v_u_n[j])\n",
    "            good_results.append(v_u_n_results[j])\n",
    "    print(f\"{(len(good_results)-old_good_results)/3000*100:.1f}\")\n",
    "print(\"Final number of layouts\", len(good_layouts))\n",
    "print(\"Final number of results\", len(good_results))"
   ]
  },
  {
   "cell_type": "code",
   "execution_count": 33,
   "id": "d044b2cb",
   "metadata": {},
   "outputs": [
    {
     "name": "stdout",
     "output_type": "stream",
     "text": [
      "Optimization Results: 4267 4267\n",
      "Good layouts 4267\n",
      "Mean Results 137.71179234761541\n",
      "[127.87613291 128.06494551 128.09417072 128.10021758 128.12250431\n",
      " 128.15036784 128.20507236 128.20832471 128.2672807  128.3236655\n",
      " 128.34639031 128.47324239 128.48471179 128.65921978 128.6964499\n",
      " 128.70726841 128.73731405 128.75309108 128.77475381 128.80052039\n",
      " 128.81435789 128.84889182 128.86136342 128.94404785 129.0440291\n",
      " 129.04851014 129.10640659 129.19884678 129.22732748 129.2797056\n",
      " 129.2848829  129.36951307 129.524096   129.57155588 129.60455434\n",
      " 129.65451267 129.73364469 129.82707992 129.87595365 129.92819959\n",
      " 129.92895286 129.94200084 129.98580478 130.12208712 130.24809011\n",
      " 130.28191431 130.40235141 130.48348262 130.56530801 130.5671463\n",
      " 130.60065054 130.6265353  130.67010444 130.75299086 130.81596574\n",
      " 130.83727928 130.84546544 130.86630087 130.88687093 130.94111744] ['GTHTaAC-1H1a1HE' 'G1HTaAC-1Ta1HTE' 'GTaAC-1aH1TH1HE' 'GaH1HTaAC-1H1E'\n",
      " 'GTaAC-1H1aHT1HE' 'GTaAC-1aH1H1HE' 'GT1Ca1HTaAC-1HE' 'GT1THTaAC-1a1HE'\n",
      " 'GTHTaAC-1H1aH1E' 'G1HTaAC-1aH1CHE' 'GTaAC-1H1Ca1HE' 'GTHTaAC-1aT1HTH1E'\n",
      " 'G1a1THTaAC-1HTHE' 'G1Ta1HTaATC-1HE' 'GTaACT-1H1Ca1HE' 'G1a1THTaAC-1HTE'\n",
      " 'GTaAC-1Ta1HT1HE' 'GTaAC-1a1H1THE' 'GTHTaTAC-1a1H1HE' 'GTaTAC-1aH1TH1HE'\n",
      " 'GTa1HTaAC-1TCH1E' 'GTHTaAC-1aH1H1E' 'GTHTaAC-1aC1HTH1E' 'G1HTaAC-1a1CHE'\n",
      " 'G1HTaAC-1TaH1HTE' 'GHTaTAC-1aH1H1E' 'GTaACT-1Ta1H1HE' 'GTaAC-1a1H1HE'\n",
      " 'GTaAC-1TaC1H1HE' 'GTaAC-1H1TaC1HE' 'GTaTAC-1aH1H1THE'\n",
      " 'GCTHT1a1HTaAC-1TE' 'GTa1HTaAC-1H1CE' 'GTaAC-1a1CH1THE' 'GTaAC-1H1aH1CHE'\n",
      " 'G1TaAC-1TaH1HTHE' 'G1a1THTaAC-1HE' 'GT1HTaAC-1aC1HE' 'GTH1TaAC-1aH1HE'\n",
      " 'GT1CHTaAC-1a1HE' 'G1a1THTaAC-1THE' 'G1a1THTaAC-1HCE' 'GTaTAC-1a1H1HE'\n",
      " 'G1CHTaATC-1a1HE' 'GCTaAC-1H1CaH1HE' 'GTaTAC-1a1CH1HE' 'G1a1HTaAC-1HTE'\n",
      " 'G1HTaAC-1aH1HTE' 'GTHTaAC-1aH1H1HE' 'GaH1HTaAC-1TCH1E' 'GT1a1HTaAC-1HE'\n",
      " 'G1Ta1HTaAC-1THE' 'GTH1TaAC-1aHT1HE' 'G1HTaAC-1a1CHTE'\n",
      " 'GTaAC-1HTH1TaH1HE' 'GTaACT-1aH1H1HE' 'GTaAC-1a1TH1HE' 'GTa1HTaAC-1H1E'\n",
      " 'GTaAC-1aHT1HTHT1E' 'GTaAC-1HT1Ca1HE']\n"
     ]
    }
   ],
   "source": [
    "import numpy as np\n",
    "cutoff = 143.957\n",
    "generated = np.load(\"LSTM_NA/M2_data_F8_layouts.npy\",allow_pickle=True)\n",
    "results = np.load(\"LSTM_NA/M2_data_F8_results.npy\")\n",
    "nonzero_results = results[np.where(results > 0)]\n",
    "good_layouts = []\n",
    "good_results = []\n",
    "print(\"Optimization Results:\", len(nonzero_results), len(results))\n",
    "for i in range(len(results)):\n",
    "    if results[i] < cutoff and results[i] > 0:\n",
    "        good_layouts.append(generated[i])\n",
    "        good_results.append(results[i])\n",
    "print(\"Good layouts\", len(good_layouts))\n",
    "print(\"Mean Results\", np.mean(good_results))\n",
    "good_layouts = np.asanyarray(good_layouts)\n",
    "good_results = np.asanyarray(good_results)\n",
    "indices = np.argsort(good_results)\n",
    "sorted_results = good_results[indices]\n",
    "# sorted_results = np.asanyarray(sorted_results)/134.01\n",
    "sorted_layouts = good_layouts[indices]\n",
    "print(sorted_results[:60], sorted_layouts[:60])"
   ]
  }
 ],
 "metadata": {
  "kernelspec": {
   "display_name": ".venv",
   "language": "python",
   "name": "python3"
  },
  "language_info": {
   "codemirror_mode": {
    "name": "ipython",
    "version": 3
   },
   "file_extension": ".py",
   "mimetype": "text/x-python",
   "name": "python",
   "nbconvert_exporter": "python",
   "pygments_lexer": "ipython3",
   "version": "3.11.9"
  }
 },
 "nbformat": 4,
 "nbformat_minor": 5
}
