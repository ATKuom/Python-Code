{
 "cells": [
  {
   "cell_type": "code",
   "execution_count": null,
   "id": "2c112e2e",
   "metadata": {},
   "outputs": [
    {
     "name": "stdout",
     "output_type": "stream",
     "text": [
      "841 841\n",
      "1719 1719\n",
      "2941 2941\n",
      "4178 4178\n",
      "5446 5446\n",
      "6715 6715\n",
      "7992 7992\n",
      "9402 9402\n",
      "Final number of layouts 10765\n",
      "Final number of results 10765\n"
     ]
    }
   ],
   "source": [
    "import numpy as np\n",
    "from thermo_validity import validity\n",
    "save_path = \"LSTM_NA_1_5/\"\n",
    "max_dataset = 8\n",
    "good_layouts = []\n",
    "good_results = []\n",
    "cutoff = 130*1.5\n",
    "designs = np.load(save_path+f\"initial_10k.npy\", allow_pickle=True)\n",
    "results = np.load(save_path+f\"results_initial_10k.npy\", allow_pickle=True)\n",
    "for j in range(len(results)):\n",
    "    if results[j] < cutoff and results[j] > 0:\n",
    "        good_layouts.append(designs[j])\n",
    "        good_results.append(results[j])\n",
    "for i in range(max_dataset):\n",
    "    print(len(good_layouts), len(good_results))\n",
    "    results = np.load(save_path+f\"results_candidates_{i}.npy\", allow_pickle=True)\n",
    "    designs = np.load(save_path+f\"generated_M2_{i}.npy\", allow_pickle=True)\n",
    "    v_u = np.unique(validity(designs))\n",
    "    datalist = np.unique(np.concatenate((good_layouts, v_u), axis=0))\n",
    "    v_u_n = datalist[np.where(np.isin(datalist, good_layouts, invert=True))[0]]\n",
    "    v_u_n_results = results[np.where(np.isin(v_u_n, designs))[0]]\n",
    "    for j in range(len(v_u_n_results)):\n",
    "        if results[j] < cutoff and v_u_n_results[j] > 0:\n",
    "            good_layouts.append(v_u_n[j])\n",
    "            good_results.append(v_u_n_results[j])\n",
    "print(\"Final number of layouts\", len(good_layouts))\n",
    "print(\"Final number of results\", len(good_results))\n",
    "np.save(save_path+f\"M2_data_F{max_dataset}_results.npy\", good_results)\n",
    "np.save(save_path+f\"M2_data_F{max_dataset}_layouts.npy\", good_layouts)"
   ]
  },
  {
   "cell_type": "code",
   "execution_count": 15,
   "id": "d044b2cb",
   "metadata": {},
   "outputs": [
    {
     "name": "stdout",
     "output_type": "stream",
     "text": [
      "Optimization Results: 10765 10765\n",
      "Good layouts 739\n",
      "Mean Results 139.00512870799963\n",
      "[129.05837258 129.34699783 131.9028121  132.12167501 132.23603478\n",
      " 132.48116544 133.1364065  133.26098349 133.82287627 133.8262794\n",
      " 133.85446838 133.85830323 133.99212676 134.02186741 134.14690469\n",
      " 134.29938507 134.29964005 134.33772743 134.34276775 134.38248003\n",
      " 134.43059547 134.50417223 134.51131585 134.51142423 134.51630844\n",
      " 134.5215067  134.5227163  134.52598181 134.53458396 134.53801409\n",
      " 134.53958198 134.5398229  134.56483591 134.5658384  134.56701071\n",
      " 134.58111441 134.59374059 134.59547166 134.60206311 134.60522723\n",
      " 134.605337   134.61626784 134.62925069 134.63437561 134.63477323\n",
      " 134.63624082 134.6469743  134.66275712 134.66396633 134.69600665\n",
      " 134.70826418 134.70873487 134.71883915 134.72536462 134.7323254\n",
      " 134.73458015 134.76418151 134.76707693 134.79445931 134.79596071] ['G1a1HTaAC-1HE' 'G1TaC1HTaAC-1HE' 'GaHTH1TaATC-1H1E' 'GT1aHTaAC-1H1CE'\n",
      " 'GTa1HTaAC-1HT1AE' 'G1TACa1HTaAC-1HE' 'G1TCaH1TaACAC-1HE'\n",
      " 'G1HTaAC-1ACa1CHE' 'GT1aHTaAC-1C1HE' 'GHTaACaHTE' 'GTHTaACaHE'\n",
      " 'GTHTaACTaHE' 'GTaTACaHTHE' 'GaH1TaAC-1ACH1E' 'G-1TC1H1TaACaHE'\n",
      " 'GT-1H1C1TaACaHE' 'GTHCHTaACaHE' 'GTHTaTACHaHE' 'GTaATCaHTHE'\n",
      " 'GTaACaHTHE' 'GTHTaACaTHE' 'GTaACaTHTHE' 'GaHTaACHE' 'GTaACHaHE'\n",
      " 'GTaHTaACHE' 'GTaACHTaHE' 'GCaHTaACTHE' 'G-1T1T1aHTaACHE' 'GTHTaACHaTHE'\n",
      " 'GaHTaTACHE' 'GTaHTaACTHE' 'GTaH1TaTAC-1H1E' 'GaTHTaHACHE' 'GTaTHTaACHE'\n",
      " 'G1HTaAC-1H1HTaE' 'G1aCT1HTaAC-1CHE' 'GTaACTHaTHE' 'GaH1TaAC-1H1E'\n",
      " 'GaHTaACHCE' 'GTaTACaTHTHE' 'GT1C1HTaTACaH-1E' 'GaH1TaACH-1H1E'\n",
      " 'GTaACHaTHE' 'GTaHTaTACHE' 'GaHTaACTHTE' 'GTaTACHaTHE' 'GTaH1TaACH-1H1E'\n",
      " 'G1HTaH1TaAC-1HE' 'GTaH1TaAC-1H1HE' 'GaH1CTH1TaAC-1HE' 'GTaTACaHE'\n",
      " 'GCaHTaACHE' 'GT1T1aTACaTH-1HE' 'GTHaHTaACHE' 'GTACaHTaE' 'GTaATCaHE'\n",
      " 'GaTHTaACHE' 'GTaACaHE' 'G-1aHTa1HT1ACHE' 'GT-1C1HTaACa1THE']\n"
     ]
    }
   ],
   "source": [
    "import numpy as np\n",
    "cutoff = 143.957\n",
    "generated = np.load(\"LSTM_NA_1_5/M2_data_F8_layouts.npy\",allow_pickle=True)\n",
    "results = np.load(\"LSTM_NA_1_5/M2_data_F8_results.npy\")\n",
    "nonzero_results = results[np.where(results > 0)]\n",
    "good_layouts = []\n",
    "good_results = []\n",
    "print(\"Optimization Results:\", len(nonzero_results), len(results))\n",
    "for i in range(len(results)):\n",
    "    if results[i] < cutoff and results[i] > 0:\n",
    "        good_layouts.append(generated[i])\n",
    "        good_results.append(results[i])\n",
    "print(\"Good layouts\", len(good_layouts))\n",
    "print(\"Mean Results\", np.mean(good_results))\n",
    "good_layouts = np.asanyarray(good_layouts)\n",
    "good_results = np.asanyarray(good_results)\n",
    "indices = np.argsort(good_results)\n",
    "sorted_results = good_results[indices]\n",
    "# sorted_results = np.asanyarray(sorted_results)/134.01\n",
    "sorted_layouts = good_layouts[indices]\n",
    "print(sorted_results[:60], sorted_layouts[:60])"
   ]
  }
 ],
 "metadata": {
  "kernelspec": {
   "display_name": ".venv",
   "language": "python",
   "name": "python3"
  },
  "language_info": {
   "codemirror_mode": {
    "name": "ipython",
    "version": 3
   },
   "file_extension": ".py",
   "mimetype": "text/x-python",
   "name": "python",
   "nbconvert_exporter": "python",
   "pygments_lexer": "ipython3",
   "version": "3.11.9"
  }
 },
 "nbformat": 4,
 "nbformat_minor": 5
}
