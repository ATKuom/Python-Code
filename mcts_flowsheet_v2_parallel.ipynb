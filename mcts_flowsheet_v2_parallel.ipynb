{
 "cells": [
  {
   "cell_type": "code",
   "execution_count": 2,
   "metadata": {},
   "outputs": [
    {
     "name": "stdout",
     "output_type": "stream",
     "text": [
      "68026 68026\n",
      "67345 67345\n"
     ]
    }
   ],
   "source": [
    "import numpy as np\n",
    "import torch\n",
    "import torch.nn as nn\n",
    "import torch.nn.functional as F\n",
    "import random\n",
    "from ZW_utils import std_classes\n",
    "from ZW_model import GPT\n",
    "from ZW_Opt import *\n",
    "from split_functions import bound_creation, layout_to_string_single_1d,equipments_to_strings\n",
    "from thermo_validity import *\n",
    "from tqdm.notebook import trange\n",
    "\n",
    "classes = std_classes\n",
    "layouts = np.load(\"M2_data_300_8_augmented_layouts.npy\", allow_pickle=True)\n",
    "results = np.load(\"M2_data_300_8_augmented_results.npy\", allow_pickle=True)\n",
    "print(len(layouts), len(results))\n",
    "layouts = equipments_to_strings(layouts, classes)\n",
    "results = 1 - (results - 125) / 175\n",
    "indices = np.argsort(results)\n",
    "sorted_results = np.array(results)[indices]\n",
    "sorted_layouts = np.array(layouts)[indices]\n",
    "unique, indices = np.unique(sorted_layouts, return_index=True)\n",
    "unique_results = sorted_results[indices]\n",
    "unique_layouts = sorted_layouts[indices]\n",
    "print(len(unique_layouts), len(unique_results))\n",
    "layouts = unique_layouts.tolist()\n",
    "results = unique_results\n",
    "new_layouts = []\n",
    "new_results = []"
   ]
  },
  {
   "cell_type": "code",
   "execution_count": 3,
   "metadata": {},
   "outputs": [],
   "source": [
    "def evaluation(layout):\n",
    "    # 1. One hot encoding from integer\n",
    "    layout = layout.astype(int)\n",
    "    stringlist = [\n",
    "        layout_to_string_single_1d(layout),\n",
    "    ]\n",
    "    valid_string = validity(stringlist)\n",
    "    if len(valid_string) == 0:\n",
    "        return -1\n",
    "    if valid_string[0] in new_layouts:\n",
    "        return new_results[new_layouts.index(valid_string[0])]\n",
    "    if valid_string[0] in layouts:\n",
    "        return results[layouts.index(valid_string[0])]\n",
    "    ohe = np.zeros((len(layout), len(classes)))\n",
    "    for i, l in enumerate(layout):\n",
    "        ohe[i, l] = 1\n",
    "    equipment, bounds, x, splitter = bound_creation(ohe)\n",
    "    swarmsize_factor = 7\n",
    "    nv = len(bounds)\n",
    "    particle_size = swarmsize_factor * nv\n",
    "    if 5 in equipment:\n",
    "        particle_size += -1 * swarmsize_factor\n",
    "    if 9 in equipment:\n",
    "        particle_size += -2 * swarmsize_factor\n",
    "    iterations = 30\n",
    "    try:\n",
    "        a = PSO(objective_function, bounds, particle_size, iterations, nv, equipment)\n",
    "        if a.result < 300:\n",
    "            # standardization between 125 and 300 to 1 and 0\n",
    "            value = 1 - (a.result - 125) / 175\n",
    "            new_layouts.append(valid_string[0])\n",
    "            new_results.append(value)\n",
    "            print(value, valid_string[0])\n",
    "        else:\n",
    "            value = -0.25\n",
    "    except:\n",
    "        value = -0.5\n",
    "    return value\n",
    "\n",
    "\n",
    "class Flowsheet:\n",
    "    def __init__(self) -> None:\n",
    "        self.column_count = 23\n",
    "        self.action_size = 12\n",
    "\n",
    "    def __repr__(self):\n",
    "        return \"Flowsheet\"\n",
    "\n",
    "    def get_initial_state(self):\n",
    "        blank_state = np.ones(self.column_count) * -1\n",
    "        blank_state[0] = 0\n",
    "        return blank_state\n",
    "\n",
    "    def get_next_state(self, state, action):\n",
    "        column = np.where(state == -1)[0][0]\n",
    "        state[column] = action\n",
    "        return state\n",
    "\n",
    "    def get_valid_moves(self, state):\n",
    "        return state.reshape(-1) == -1\n",
    "\n",
    "    def check_win(self, state, action):\n",
    "        if action == 11:\n",
    "            return True\n",
    "        return False\n",
    "\n",
    "    def get_value_and_terminated(self, state, action):\n",
    "        if self.check_win(state, action):\n",
    "            value = evaluation(self.get_encoded_state(state))\n",
    "            return value, True\n",
    "        if np.sum(self.get_valid_moves(state)) == 0:\n",
    "            return -1, True\n",
    "        return -1, False\n",
    "\n",
    "    def get_encoded_state(self, state):\n",
    "        if len(state.shape) == 2:\n",
    "            encoded_state = []\n",
    "            for i in range(state.shape[0]):\n",
    "                try:\n",
    "                    column = np.where(state[i] == -1)[0][0]\n",
    "                except:\n",
    "                    column = self.column_count\n",
    "                encoded_state.append(state[i][:column])\n",
    "            return encoded_state\n",
    "        try:\n",
    "            column = np.where(state == -1)[0][0]\n",
    "        except:\n",
    "            column = self.column_count\n",
    "        encoded_state = state[:column]\n",
    "        return encoded_state"
   ]
  },
  {
   "cell_type": "code",
   "execution_count": 4,
   "metadata": {},
   "outputs": [],
   "source": [
    "class SPG:\n",
    "    def __init__(self,game):\n",
    "        self.state =game.get_initial_state()\n",
    "        self.memory = []\n",
    "        self.root = None\n",
    "        self.node = None\n",
    "class Node:\n",
    "    def __init__(self,game,args,state,parent=None,action_taken=None,prior = 0,visit_count=0):\n",
    "        self.game = game\n",
    "        self.args = args\n",
    "        self.state = state\n",
    "        self.parent = parent\n",
    "        self.action_taken = action_taken\n",
    "        self.prior = prior\n",
    "\n",
    "        self.children = []\n",
    "\n",
    "        self.visit_count = visit_count\n",
    "        self.value_sum = 0\n",
    "    \n",
    "    def is_fully_expanded(self):\n",
    "        return len(self.children) > 0\n",
    "\n",
    "    def select(self):\n",
    "        best_child = None\n",
    "        best_ucb = -np.inf\n",
    "        for child in self.children:\n",
    "            ucb = self.get_ucb(child)\n",
    "            if ucb > best_ucb:\n",
    "                best_ucb = ucb\n",
    "                best_child = child\n",
    "        return best_child\n",
    "    \n",
    "    def get_ucb(self,child):\n",
    "        if child.visit_count == 0:\n",
    "            q_value = 0\n",
    "        else:\n",
    "            q_value = ((child.value_sum / child.visit_count)+1)/2\n",
    "        return q_value + self.args[\"C\"] * (np.sqrt(self.visit_count) / (child.visit_count+1))*child.prior\n",
    "    def expand(self,policy):\n",
    "        for action, prob in enumerate(policy):\n",
    "            if prob > 0:\n",
    "                child_state = self.state.copy()\n",
    "                child_state = self.game.get_next_state(child_state,action)\n",
    "                child = Node(self.game,self.args,child_state,self,action,prob)\n",
    "                self.children.append(child)\n",
    "\n",
    "    def backpropagate(self,value):\n",
    "        self.value_sum += value\n",
    "        self.visit_count += 1\n",
    "        if self.parent != None:\n",
    "            self.parent.backpropagate(value)\n",
    "\n",
    "class MCTS_Parallel:\n",
    "    def __init__(self,game,args,model):\n",
    "        self.game = game\n",
    "        self.args = args\n",
    "        self.model = model\n",
    "        self.valid_moves = np.ones(self.game.action_size)\n",
    "        self.valid_moves[0],self.valid_moves[6],self.valid_moves[8],self.valid_moves[10] = 0,0,0,0\n",
    "\n",
    "    @torch.no_grad()\n",
    "    def search(self,states,spGames):\n",
    "        input = torch.tensor(np.array(self.game.get_encoded_state(states)),dtype=torch.long)\n",
    "        lengths = torch.tensor([x for x in map(len, input)])\n",
    "        policy,_ = self.model(\n",
    "            input,lengths\n",
    "        )\n",
    "        policy = torch.softmax(policy,axis=-1).squeeze(0).detach().numpy()\n",
    "        \n",
    "        policy = (1-self.args[\"dirichlet_epsilon\"])*policy + self.args[\"dirichlet_epsilon\"]\\\n",
    "            *np.random.dirichlet([self.args[\"dirichlet_alpha\"]]*self.game.action_size)\n",
    "        \n",
    "        for i,spg in enumerate(spGames):\n",
    "            spg_policy = policy[i]\n",
    "            spg_policy*=self.valid_moves\n",
    "            spg_policy /= np.sum(spg_policy)\n",
    "            spg.root = Node(self.game,self.args,states[i],visit_count=1)\n",
    "            spg.root.expand(spg_policy)\n",
    "\n",
    "        for search in range(self.args[\"num_searches\"]):\n",
    "            for spg in spGames:\n",
    "                spg.node = None\n",
    "                node = spg.root\n",
    "                while node.is_fully_expanded():\n",
    "                    node = node.select()\n",
    "                value,is_terminal = self.game.get_value_and_terminated(node.state, node.action_taken)\n",
    "                if is_terminal:\n",
    "                    node.backpropagate(value)\n",
    "                else:\n",
    "                    spg.node = node\n",
    "                \n",
    "                expandable_spGames = [mappingIdx for mappingIdx in range(len(spGames)) if spGames[mappingIdx].node != None]\n",
    "            \n",
    "                if len(expandable_spGames) > 0:\n",
    "                  states = np.stack([spGames[mappingIdx].node.state for mappingIdx in expandable_spGames])\n",
    "                  encoded_states = self.game.get_encoded_state(states)\n",
    "                  lengths = torch.tensor([x for x in map(len, encoded_states)])\n",
    "                  max_length = max(lengths)\n",
    "                  encoded_states = [x.tolist() + [12]*(max_length-len(x)) for x in encoded_states]\n",
    "                  input = torch.tensor(encoded_states,dtype=torch.long)\n",
    "                  policy,value = self.model(input,lengths)\n",
    "                  policy = torch.softmax(policy,axis=-1).squeeze(0).detach().numpy()\n",
    "\n",
    "                for i,mappingIdx in enumerate(expandable_spGames):\n",
    "                    node = spGames[mappingIdx].node\n",
    "                    spg_policy,spg_value = policy[i],value[i]\n",
    "                    spg_policy*= self.valid_moves\n",
    "                    spg_policy /= np.sum(spg_policy)\n",
    "                    node.expand(spg_policy)\n",
    "                    node.backpropagate(spg_value)"
   ]
  },
  {
   "cell_type": "code",
   "execution_count": 5,
   "metadata": {},
   "outputs": [],
   "source": [
    "class Alphazero_Parallel:\n",
    "    def __init__(self,model,optimizer,game,args):\n",
    "        self.model = model\n",
    "        self.optimizer = optimizer\n",
    "        self.game = game\n",
    "        self.args = args\n",
    "        self.mcts = MCTS_Parallel(game,args,model)\n",
    "\n",
    "    def selfPlay(self):\n",
    "        retun_memory = []\n",
    "        sgGames = [SPG(self.game) for spg in range(self.args[\"num_parallel_games\"])]\n",
    "\n",
    "        while len(sgGames) > 0:\n",
    "            states = np.stack([spg.state for spg in sgGames])\n",
    "            self.mcts.search(states,sgGames)\n",
    "\n",
    "            for i in range(len(sgGames))[::-1]:\n",
    "                spg = sgGames[i]\n",
    "                action_probs = np.zeros(self.game.action_size)\n",
    "                for child in spg.root.children:\n",
    "                    action_probs[child.action_taken] = child.visit_count\n",
    "                action_probs /= np.sum(action_probs)\n",
    "                spg.memory.append((spg.root.state,action_probs))\n",
    "                #Temperature lim 0 exploiation, lim inf exploration (more randomness)\n",
    "                temperature_action_probs = action_probs**(1/self.args[\"temperature\"])\n",
    "                temperature_action_probs /= np.sum(temperature_action_probs)\n",
    "\n",
    "                action = np.random.choice(self.game.action_size,p=temperature_action_probs)\n",
    "                spg.state = self.game.get_next_state(spg.state,action)\n",
    "                value,is_terminal = self.game.get_value_and_terminated(spg.state,action)\n",
    "                if is_terminal:\n",
    "                    for hist_state,hist_action_probs in spg.memory:\n",
    "                        hist_outcome = value \n",
    "                        retun_memory.append((\n",
    "                            self.game.get_encoded_state(hist_state),\n",
    "                            hist_action_probs,\n",
    "                            hist_outcome\n",
    "                        ))\n",
    "                    del sgGames[i]\n",
    "        return retun_memory\n",
    "    \n",
    "    def train(self,memory):\n",
    "        random.shuffle(memory)\n",
    "        for batchIdx in range(0,len(memory),self.args['batch_size']):\n",
    "            sample = memory[batchIdx:min(len(memory)-1,batchIdx+self.args['batch_size'])]\n",
    "            states,policy_targets,value_targets = zip(*sample)\n",
    "            #padding necessicity\n",
    "            lengths = torch.tensor([len(x) for x in states])\n",
    "            max_length = max(lengths)\n",
    "            #padding to the maximum length\n",
    "            states = [x.tolist()+[12]*(max_length-len(x)) for x in states]\n",
    "            states,policy_targets,value_targets = np.array(states),np.array(policy_targets),np.array(value_targets).reshape(-1,1)            \n",
    "            states = torch.tensor(states).long()\n",
    "            policy_targets = torch.tensor(policy_targets).float()\n",
    "            value_targets = torch.tensor(value_targets).float()\n",
    "            \n",
    "            out_policy, out_value = self.model(states,lengths)\n",
    "\n",
    "            policy_loss = F.cross_entropy(out_policy,policy_targets)\n",
    "            value_loss = F.mse_loss(out_value,value_targets)\n",
    "            loss = policy_loss + value_loss\n",
    "\n",
    "            self.optimizer.zero_grad()\n",
    "            loss.backward()\n",
    "            self.optimizer.step()\n",
    "            \n",
    "\n",
    "    def learn(self):\n",
    "        for iteration in range(self.args[\"num_iterations\"]):\n",
    "            memory = []\n",
    "            for selfPlay_iteration in trange(self.args[\"num_selfPlay_iterations\"]//self.args[\"num_parallel_games\"]):\n",
    "                memory += self.selfPlay()\n",
    "            self.model.train()\n",
    "            for epoch in trange(self.args[\"num_epochs\"]):\n",
    "                self.train(memory)\n",
    "            save_path = self.args[\"save_path\"]\n",
    "            torch.save(self.model.state_dict(),f\"{save_path}/model_{iteration}_{self.game}.pt\")\n",
    "            torch.save(self.optimizer.state_dict(),f\"{save_path}/optimizer_{iteration}_{self.game}.pt\")"
   ]
  },
  {
   "cell_type": "code",
   "execution_count": 6,
   "metadata": {},
   "outputs": [],
   "source": [
    "class LSTM_packed(nn.Module):\n",
    "    def __init__(self, embd_size,hidden_size):\n",
    "        super(LSTM_packed, self).__init__()\n",
    "        self.embedding = nn.Embedding(13, embd_size, padding_idx=12)\n",
    "        self.lstm = nn.LSTM(embd_size, hidden_size, num_layers=2, batch_first=True, dropout=0.1)\n",
    "        self.valuehead = nn.Linear(hidden_size, 1)\n",
    "        self.policyhead = nn.Linear(hidden_size, 12)\n",
    "    def forward(self, x, lengths):\n",
    "        \n",
    "        x = self.embedding(x.long())\n",
    "        x = nn.utils.rnn.pack_padded_sequence(\n",
    "            x, lengths, batch_first=True, enforce_sorted=False\n",
    "        )\n",
    "        output, (hidden, _) = self.lstm(x)\n",
    "        value = self.valuehead(hidden[-1])\n",
    "        policy = self.policyhead(hidden[-1])\n",
    "        return policy, value"
   ]
  },
  {
   "cell_type": "code",
   "execution_count": 7,
   "metadata": {},
   "outputs": [
    {
     "data": {
      "application/vnd.jupyter.widget-view+json": {
       "model_id": "a08adec9c358498ba638a8a2e8bdd9f5",
       "version_major": 2,
       "version_minor": 0
      },
      "text/plain": [
       "  0%|          | 0/50 [00:00<?, ?it/s]"
      ]
     },
     "metadata": {},
     "output_type": "display_data"
    },
    {
     "name": "stdout",
     "output_type": "stream",
     "text": [
      "0.4839339949786815 GCACATHTE\n",
      "0.5798630443947534 GACAHCTE\n",
      "0.33712997869804795 GC1CA1C-1HCTAE\n",
      "0.5627772137172904 GHCaCHAaHCTE\n",
      "0.7897215147759601 GCHCTAE\n"
     ]
    },
    {
     "data": {
      "application/vnd.jupyter.widget-view+json": {
       "model_id": "1beda2bde2c844199e477106ce522f63",
       "version_major": 2,
       "version_minor": 0
      },
      "text/plain": [
       "  0%|          | 0/5 [00:00<?, ?it/s]"
      ]
     },
     "metadata": {},
     "output_type": "display_data"
    },
    {
     "data": {
      "application/vnd.jupyter.widget-view+json": {
       "model_id": "72d12a778664490393baa1c38624c651",
       "version_major": 2,
       "version_minor": 0
      },
      "text/plain": [
       "  0%|          | 0/50 [00:00<?, ?it/s]"
      ]
     },
     "metadata": {},
     "output_type": "display_data"
    },
    {
     "name": "stdout",
     "output_type": "stream",
     "text": [
      "0.8408012079708432 GaHTCaCAE\n",
      "0.8064632418801045 GTATCHE\n",
      "0.7379157128928046 GaCTHa1T1TAC-1E\n",
      "0.885214687026118 GACTAaTHaE\n",
      "0.7522312423620507 GA1A1CHC-1TE\n",
      "0.15698779417476116 G-1HC1TAC1E\n",
      "0.7295440252050646 GCTA1AT1AC-1HE\n"
     ]
    },
    {
     "data": {
      "application/vnd.jupyter.widget-view+json": {
       "model_id": "a53c6b1d08f142e9a59d956f2df1e986",
       "version_major": 2,
       "version_minor": 0
      },
      "text/plain": [
       "  0%|          | 0/5 [00:00<?, ?it/s]"
      ]
     },
     "metadata": {},
     "output_type": "display_data"
    },
    {
     "data": {
      "application/vnd.jupyter.widget-view+json": {
       "model_id": "5c2d9511c29a45a49152a0174fefe6bc",
       "version_major": 2,
       "version_minor": 0
      },
      "text/plain": [
       "  0%|          | 0/50 [00:00<?, ?it/s]"
      ]
     },
     "metadata": {},
     "output_type": "display_data"
    },
    {
     "name": "stdout",
     "output_type": "stream",
     "text": [
      "0.8062616709485732 GTHTACE\n",
      "0.8065767520431921 GHTACE\n",
      "0.6945383000402641 GAHTAT1C1AC-1E\n",
      "0.6011197260283179 GAHTAT1C1AC-1CE\n",
      "0.8065768927948451 GCHTAE\n",
      "0.588086497738305 GCAHTAE\n"
     ]
    },
    {
     "data": {
      "application/vnd.jupyter.widget-view+json": {
       "model_id": "25b2f2eae8f64ddda141f66c74f35da5",
       "version_major": 2,
       "version_minor": 0
      },
      "text/plain": [
       "  0%|          | 0/5 [00:00<?, ?it/s]"
      ]
     },
     "metadata": {},
     "output_type": "display_data"
    },
    {
     "data": {
      "application/vnd.jupyter.widget-view+json": {
       "model_id": "a84e7c703e1940fea5d89a9dab1cfd08",
       "version_major": 2,
       "version_minor": 0
      },
      "text/plain": [
       "  0%|          | 0/50 [00:00<?, ?it/s]"
      ]
     },
     "metadata": {},
     "output_type": "display_data"
    },
    {
     "name": "stdout",
     "output_type": "stream",
     "text": [
      "0.4708603842202572 GC-1AHTCA1H1E\n",
      "0.7296436674537348 GAHTACE\n",
      "0.6772171210430198 GHTHA-1CHTaA1CA1CaE\n",
      "0.2651330597435957 GHATHTHACE\n"
     ]
    },
    {
     "data": {
      "application/vnd.jupyter.widget-view+json": {
       "model_id": "7d647c391922420189bdd1ab2b47c281",
       "version_major": 2,
       "version_minor": 0
      },
      "text/plain": [
       "  0%|          | 0/5 [00:00<?, ?it/s]"
      ]
     },
     "metadata": {},
     "output_type": "display_data"
    }
   ],
   "source": [
    "game = Flowsheet()\n",
    "model = LSTM_packed(64,256)\n",
    "optimizer = torch.optim.Adam(model.parameters(),lr=0.001,weight_decay=1e-4)\n",
    "args = {\n",
    "    \"C\":2,\n",
    "    \"num_searches\":100,\n",
    "    \"num_iterations\":4,\n",
    "    \"num_selfPlay_iterations\":1000,\n",
    "    \"num_parallel_games\":20,\n",
    "    \"num_epochs\":5,\n",
    "    \"batch_size\":100,\n",
    "    \"temperature\":1,\n",
    "    \"dirichlet_epsilon\":0.1,\n",
    "    \"dirichlet_alpha\":0.3,\n",
    "    \"save_path\":\"./RL/policy_value_model_parallel\"\n",
    "}\n",
    "alphazero = Alphazero_Parallel(model,optimizer,game,args)\n",
    "alphazero.learn()"
   ]
  },
  {
   "cell_type": "code",
   "execution_count": 8,
   "metadata": {},
   "outputs": [],
   "source": [
    "# game = Flowsheet()\n",
    "# args = {\n",
    "#     \"C\":2,\n",
    "#     \"num_searches\":100,\n",
    "#     \"num_iterations\":6,\n",
    "#     \"num_selfPlay_iterations\":500,\n",
    "#     \"num_epochs\":30,\n",
    "#     \"batch_size\":100,\n",
    "    # \"temperature\":1,\n",
    "#     \"dirichlet_epsilon\":0.1,\n",
    "#     \"dirichlet_alpha\":0.3,\n",
    "#     \"save_path\":\"./RL/policy_value_model_parallel\"\n",
    "# }\n",
    "# model = LSTM_packed(64,256)\n",
    "# model.state_dict(torch.load('RL/policy_value_model_parallel/model_2_Flowsheet.pt'))\n",
    "# model.eval()\n",
    "# mcts = MCTS_Parallel(game, args,model)\n",
    "# state = game.get_initial_state()\n",
    "# while True:\n",
    "#     mcts_probs = mcts.search(state)\n",
    "#     action = np.argmax(mcts_probs)\n",
    "        \n",
    "#     state = game.get_next_state(state, action)\n",
    "#     value,is_terminal = game.get_value_and_terminated(state,action)\n",
    "\n",
    "#     if is_terminal:\n",
    "#         print(value, state)\n",
    "#         break"
   ]
  }
 ],
 "metadata": {
  "kernelspec": {
   "display_name": ".venv",
   "language": "python",
   "name": "python3"
  },
  "language_info": {
   "codemirror_mode": {
    "name": "ipython",
    "version": 3
   },
   "file_extension": ".py",
   "mimetype": "text/x-python",
   "name": "python",
   "nbconvert_exporter": "python",
   "pygments_lexer": "ipython3",
   "version": "3.11.9"
  }
 },
 "nbformat": 4,
 "nbformat_minor": 2
}
