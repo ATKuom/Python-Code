{
 "cells": [
  {
   "cell_type": "code",
   "execution_count": null,
   "metadata": {},
   "outputs": [],
   "source": [
    "from ZW_model import *\n",
    "from ZW_utils import *\n",
    "import torch.optim as optim\n",
    "dataset_id = \"v21D0_m1.npy\"\n",
    "batch_size = 10\n",
    "block_size = 22\n",
    "loss_function = std_loss\n",
    "learning_rate = 1e-3\n",
    "max_epochs = 20\n",
    "n_embd = 32  # 32\n",
    "n_head = 4  # 4\n",
    "n_layer = 2  # 2\n",
    "dropout = 0.1  # 0.1\n",
    "classes = std_classes\n",
    "vocab_size = len(classes)\n",
    "model = GPTModel(vocab_size, n_embd, n_head, n_layer, block_size, dropout)\n"
   ]
  },
  {
   "cell_type": "code",
   "execution_count": null,
   "metadata": {},
   "outputs": [],
   "source": [
    "save_path = make_dir(\n",
    "    model,\n",
    "    batch_size,\n",
    "    learning_rate,\n",
    ")\n",
    "optimizer = optim.Adam(model.parameters(), lr=learning_rate)"
   ]
  },
  {
   "cell_type": "code",
   "execution_count": null,
   "metadata": {},
   "outputs": [],
   "source": [
    "dataset = dataloading(dataset_id)"
   ]
  },
  {
   "cell_type": "code",
   "execution_count": null,
   "metadata": {},
   "outputs": [],
   "source": [
    "from torch.utils.data import DataLoader\n",
    "from ZW_dataset import GPTDataset\n",
    "data_split_ratio = 0.85\n",
    "t_data = dataset[: int(data_split_ratio * len(dataset))]\n",
    "v_data = dataset[int(data_split_ratio * len(dataset)) :]\n",
    "training_set = GPTDataset(t_data, classes,block_size, training_type=\"augmented\")\n",
    "validation_set = GPTDataset(v_data, classes,block_size, training_type=\"standard\")\n",
    "train_loader = DataLoader(training_set, batch_size=batch_size, shuffle=True)\n",
    "val_loader = DataLoader(validation_set, batch_size=batch_size, shuffle=False)"
   ]
  },
  {
   "cell_type": "code",
   "execution_count": null,
   "metadata": {},
   "outputs": [],
   "source": [
    "best_loss = np.inf\n",
    "best_model = None\n",
    "train_losses = []\n",
    "validation_losses = []\n",
    "patience = 5\n",
    "for epoch in range(max_epochs):\n",
    "    model.train()\n",
    "    epoch_loss = 0\n",
    "    train_correct = 0\n",
    "    train_total = 0\n",
    "    for i, (x, y) in enumerate(train_loader):\n",
    "        optimizer.zero_grad()\n",
    "        y_pred = model(x)\n",
    "        y_pred = y_pred.view(-1, y_pred.size(-1))\n",
    "        y = y.view(-1)\n",
    "        loss = loss_function(y_pred, y)\n",
    "        loss.backward()\n",
    "        optimizer.step()\n",
    "        epoch_loss += loss.item()\n",
    "        _, predicted = torch.max(y_pred.data, 1)\n",
    "        train_total += y.size(0)\n",
    "        train_correct += (predicted == y).sum().item()\n",
    "    epoch_loss = epoch_loss / len(train_loader)\n",
    "    model.eval()\n",
    "    correct = 0\n",
    "    total = 0\n",
    "    val_loss = 0\n",
    "    with torch.no_grad():\n",
    "        for i, (x, y) in enumerate(val_loader):\n",
    "            y_pred = model(x)\n",
    "            y_pred = y_pred.view(-1, y_pred.size(-1))\n",
    "            y = y.view(-1)\n",
    "            loss = loss_function(y_pred, y)\n",
    "            _, predicted = torch.max(y_pred.data, 1)\n",
    "            total += y.size(0)\n",
    "            correct += (predicted == y).sum().item()\n",
    "            val_loss += loss.item()\n",
    "        val_loss = val_loss / len(val_loader)\n",
    "        if val_loss < best_loss:\n",
    "            best_loss = val_loss\n",
    "            best_model = copy.deepcopy(model.state_dict())\n",
    "            patience = 5\n",
    "        else:\n",
    "            patience -= 1\n",
    "        train_losses.append(epoch_loss)\n",
    "        validation_losses.append(val_loss)\n",
    "        print(\n",
    "            \"Epoch [%d/%d], T.Loss: %.4f, V.Loss: %.4f, T.Acc: %.2f%%, V.Acc: %d%%\"\n",
    "            % (\n",
    "                epoch + 1,\n",
    "                max_epochs,\n",
    "                epoch_loss,\n",
    "                val_loss,\n",
    "                100 * train_correct / train_total,\n",
    "                100 * correct / total,\n",
    "            )\n",
    "        )\n",
    "    if patience == 0:\n",
    "        break"
   ]
  }
 ],
 "metadata": {
  "kernelspec": {
   "display_name": ".venv",
   "language": "python",
   "name": "python3"
  },
  "language_info": {
   "codemirror_mode": {
    "name": "ipython",
    "version": 3
   },
   "file_extension": ".py",
   "mimetype": "text/x-python",
   "name": "python",
   "nbconvert_exporter": "python",
   "pygments_lexer": "ipython3",
   "version": "3.11.9"
  }
 },
 "nbformat": 4,
 "nbformat_minor": 2
}
