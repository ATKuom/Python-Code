{
 "cells": [
  {
   "cell_type": "code",
   "execution_count": 3,
   "metadata": {},
   "outputs": [
    {
     "name": "stdout",
     "output_type": "stream",
     "text": [
      "6140\n",
      "3000\n",
      "2529\n",
      "7545\n",
      "1405 1405\n",
      "-7586896944.673782\n",
      "134.03661753276512\n",
      "Optimization Results: 1242 1405\n",
      "Good layouts 901\n",
      "[134.03661753 134.05663988 134.0844481  134.16927405 134.21999015\n",
      " 134.2463016  134.26225708 134.26603607 134.34221161 134.43830248] ['GTH1TaACaH-1H1HE' 'G1TaACaH-1HT1THTHE' 'GaACaH-1T1H1THTE'\n",
      " 'GaH-1HTa1TH1ACE' 'GaACaH-1TH1HT1TE' 'GTaACaH-1H1TCHT1E'\n",
      " 'GCaH-1T1HT1TaAE' 'GTaACaH-1T1CH1HE' 'GCH1CaHTHTa1A-1E'\n",
      " 'GHT1TaACaH-1TH1E']\n"
     ]
    }
   ],
   "source": [
    "### Dataset Analysis\n",
    "from thermo_validity import validity\n",
    "import numpy as np\n",
    "cutoff = 143.957\n",
    "p_dataset = np.load(\"202407151438_GPT_A/M2_data_7.npy\", allow_pickle=True)\n",
    "generated = np.load(\"202407151438_GPT_A/generated_M2_7.npy\",allow_pickle=True)\n",
    "results = np.load(\"202407151438_GPT_A/results_candidates_7.npy\")\n",
    "print(len(p_dataset))\n",
    "valid = validity(generated)\n",
    "print(len(valid))\n",
    "unique = np.unique(valid)\n",
    "print(len(unique))\n",
    "n_dataset = np.unique(np.concatenate((p_dataset, unique), axis=0))\n",
    "print(len(n_dataset))\n",
    "datalist = n_dataset[np.where(np.isin(n_dataset, p_dataset, invert=True))[0]]\n",
    "\n",
    "print(len(datalist), len(results))\n",
    "nonzero_results = results[np.where(results > 0)]\n",
    "good_layouts = []\n",
    "good_results = []\n",
    "print(\"Optimization Results:\", len(nonzero_results), len(results))\n",
    "for i in range(len(results)):\n",
    "    if results[i] < cutoff and results[i] > 0:\n",
    "        good_layouts.append(datalist[i])\n",
    "        good_results.append(results[i])\n",
    "print(\"Good layouts\", len(good_layouts))\n",
    "good_layouts = np.asanyarray(good_layouts)\n",
    "good_results = np.asanyarray(good_results)\n",
    "indices = np.argsort(good_results)\n",
    "sorted_results = good_results[indices]\n",
    "sorted_layouts = good_layouts[indices]\n",
    "print(sorted_results[:10], sorted_layouts[:10])"
   ]
  },
  {
   "cell_type": "code",
   "execution_count": null,
   "metadata": {},
   "outputs": [],
   "source": [
    "### Broken ones\n",
    "results = np.load(\"202407151312_GPT_NA/results_candidates_3.npy\")\n",
    "p_dataset = np.load(\"202407151312_GPT_NA/M2_data_3.npy\", allow_pickle=True)\n",
    "generated = np.load(\"202407151312_GPT_NA/generated_M2_3.npy\",allow_pickle=True)\n",
    "positions = np.load(\"202407151312_GPT_NA/positions_candidates_3.npy\",allow_pickle=True)\n",
    "valid = validity(generated)\n",
    "unique = np.unique(valid)\n",
    "n_dataset = np.unique(np.concatenate((p_dataset, unique), axis=0))\n",
    "datalist = n_dataset[np.where(np.isin(n_dataset, p_dataset, invert=True))[0]]\n",
    "print(len(datalist), len(results))\n",
    "indices = np.argsort(results)\n",
    "sorted_results = results[indices]\n",
    "sorted_layouts = datalist[indices]\n",
    "sorted_positions = positions[indices]\n",
    "print(sorted_results[:23])\n",
    "print(sorted_layouts[:23])\n",
    "print(sorted_positions[:23])"
   ]
  }
 ],
 "metadata": {
  "kernelspec": {
   "display_name": ".venv",
   "language": "python",
   "name": "python3"
  },
  "language_info": {
   "codemirror_mode": {
    "name": "ipython",
    "version": 3
   },
   "file_extension": ".py",
   "mimetype": "text/x-python",
   "name": "python",
   "nbconvert_exporter": "python",
   "pygments_lexer": "ipython3",
   "version": "3.11.9"
  }
 },
 "nbformat": 4,
 "nbformat_minor": 2
}
