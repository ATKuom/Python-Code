{
 "cells": [
  {
   "cell_type": "code",
   "execution_count": 5,
   "metadata": {},
   "outputs": [
    {
     "name": "stdout",
     "output_type": "stream",
     "text": [
      "107442\n",
      "9942\n",
      "9942\n",
      "117302\n",
      "9860 9942\n",
      "Optimization Results: 1026 9942\n",
      "Good layouts 17\n",
      "[134.23919739 134.5114464  134.51443124 134.64226626 134.91041472\n",
      " 135.29429321 135.76610042 136.60287885 137.21048215 139.32104282] ['GACHaT1CA-1TCAaHCHC1HE' 'GCHaTCHAaAE' 'Ga1A-1ACH1CHCTAaHACTE'\n",
      " 'GT1CA-1Ca1TACaCHATCHE' 'GTAHCaCHAH1Ha1T-1HE' 'GACaT1TACH1ACA-1TaE'\n",
      " 'GCHaTCTAC1A-1THa1E' 'G1ACaH-1Ta1THAE' 'GTa1T-1HCHaTCATACH1CE'\n",
      " 'GHTHATHaT-1H1HACH1CaTCE']\n"
     ]
    }
   ],
   "source": [
    "### Dataset Analysis\n",
    "from thermo_validity import validity\n",
    "import numpy as np\n",
    "cutoff = 143.957\n",
    "p_dataset = np.load(\"202408222227_GPT_batch100_lr1e-03/M1_data_11.npy\", allow_pickle=True)\n",
    "generated = np.load(\"202408222227_GPT_batch100_lr1e-03/initial_10k.npy\",allow_pickle=True)\n",
    "results = np.load(\"202408222227_GPT_batch100_lr1e-03/results_initial_10k.npy\")\n",
    "print(len(p_dataset))\n",
    "valid = validity(generated)\n",
    "print(len(valid))\n",
    "unique = np.unique(valid)\n",
    "print(len(unique))\n",
    "n_dataset = np.unique(np.concatenate((p_dataset, unique), axis=0))\n",
    "print(len(n_dataset))\n",
    "datalist = n_dataset[np.where(np.isin(n_dataset, p_dataset, invert=True))[0]]\n",
    "print(len(datalist), len(results))\n",
    "nonzero_results = results[np.where(results > 0)]\n",
    "good_layouts = []\n",
    "good_results = []\n",
    "print(\"Optimization Results:\", len(nonzero_results), len(results))\n",
    "for i in range(len(results)):\n",
    "    if results[i] < cutoff and results[i] > 0:\n",
    "        good_layouts.append(datalist[i])\n",
    "        good_results.append(results[i])\n",
    "print(\"Good layouts\", len(good_layouts))\n",
    "good_layouts = np.asanyarray(good_layouts)\n",
    "good_results = np.asanyarray(good_results)\n",
    "indices = np.argsort(good_results)\n",
    "sorted_results = good_results[indices]\n",
    "sorted_layouts = good_layouts[indices]\n",
    "print(sorted_results[:10], sorted_layouts[:10])"
   ]
  },
  {
   "cell_type": "code",
   "execution_count": null,
   "metadata": {},
   "outputs": [],
   "source": [
    "### Broken ones\n",
    "results = np.load(\"202407151312_GPT_NA/results_candidates_3.npy\")\n",
    "p_dataset = np.load(\"202407151312_GPT_NA/M2_data_3.npy\", allow_pickle=True)\n",
    "generated = np.load(\"202407151312_GPT_NA/generated_M2_3.npy\",allow_pickle=True)\n",
    "positions = np.load(\"202407151312_GPT_NA/positions_candidates_3.npy\",allow_pickle=True)\n",
    "valid = validity(generated)\n",
    "unique = np.unique(valid)\n",
    "n_dataset = np.unique(np.concatenate((p_dataset, unique), axis=0))\n",
    "datalist = n_dataset[np.where(np.isin(n_dataset, p_dataset, invert=True))[0]]\n",
    "print(len(datalist), len(results))\n",
    "indices = np.argsort(results)\n",
    "sorted_results = results[indices]\n",
    "sorted_layouts = datalist[indices]\n",
    "sorted_positions = positions[indices]\n",
    "print(sorted_results[:23])\n",
    "print(sorted_layouts[:23])\n",
    "print(sorted_positions[:23])"
   ]
  }
 ],
 "metadata": {
  "kernelspec": {
   "display_name": ".venv",
   "language": "python",
   "name": "python3"
  },
  "language_info": {
   "codemirror_mode": {
    "name": "ipython",
    "version": 3
   },
   "file_extension": ".py",
   "mimetype": "text/x-python",
   "name": "python",
   "nbconvert_exporter": "python",
   "pygments_lexer": "ipython3",
   "version": "3.11.9"
  }
 },
 "nbformat": 4,
 "nbformat_minor": 2
}
