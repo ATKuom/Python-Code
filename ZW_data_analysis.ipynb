{
 "cells": [
  {
   "cell_type": "code",
   "execution_count": 5,
   "metadata": {},
   "outputs": [
    {
     "name": "stdout",
     "output_type": "stream",
     "text": [
      "2529\n",
      "2995\n",
      "1730\n",
      "3222\n",
      "693 693\n",
      "Optimization Results: 550 693\n",
      "Good layouts 335\n",
      "[131.84503841 134.61931681 135.53047087 135.6170715  135.81042736\n",
      " 135.92817827 136.13271712 136.21279457 136.22683003 136.23146047] ['G1HTaAC-1Ta1HE' 'G-1C1HTaAC1CaHE' 'G-1Ta1TA1ACaHE' 'GTaA1TA1TC-1aHE'\n",
      " 'GTaA1TC-1HATC1aHE' 'GT-1A1HT1aACaHE' 'GT1aAC-1ATA1CaHE'\n",
      " 'GTaA1TC-1HTAC1aHE' 'G1TaAC-1ATCA1aHE' 'G1TaAC-1TACAC1aHE']\n"
     ]
    }
   ],
   "source": [
    "### Dataset Analysis\n",
    "from thermo_validity import validity\n",
    "import numpy as np\n",
    "cutoff = 143.957\n",
    "p_dataset = np.load(\"GPT_NA_to_A/M2_data_6.npy\", allow_pickle=True)\n",
    "generated = np.load(\"GPT_NA_to_A/generated_M2_6.npy\",allow_pickle=True)\n",
    "results = np.load(\"GPT_NA_to_A/results_candidates_6.npy\")\n",
    "print(len(p_dataset))\n",
    "valid = validity(generated)\n",
    "print(len(valid))\n",
    "unique = np.unique(valid)\n",
    "print(len(unique))\n",
    "n_dataset = np.unique(np.concatenate((p_dataset, unique), axis=0))\n",
    "print(len(n_dataset))\n",
    "datalist = n_dataset[np.where(np.isin(n_dataset, p_dataset, invert=True))[0]]\n",
    "\n",
    "print(len(datalist), len(results))\n",
    "nonzero_results = results[np.where(results > 0)]\n",
    "good_layouts = []\n",
    "good_results = []\n",
    "print(\"Optimization Results:\", len(nonzero_results), len(results))\n",
    "for i in range(len(results)):\n",
    "    if results[i] < cutoff and results[i] > 0:\n",
    "        good_layouts.append(datalist[i])\n",
    "        good_results.append(results[i])\n",
    "print(\"Good layouts\", len(good_layouts))\n",
    "good_layouts = np.asanyarray(good_layouts)\n",
    "good_results = np.asanyarray(good_results)\n",
    "indices = np.argsort(good_results)\n",
    "sorted_results = good_results[indices]\n",
    "sorted_layouts = good_layouts[indices]\n",
    "print(sorted_results[:10], sorted_layouts[:10])"
   ]
  },
  {
   "cell_type": "code",
   "execution_count": null,
   "metadata": {},
   "outputs": [],
   "source": [
    "### Broken ones\n",
    "results = np.load(\"202407151312_GPT_NA/results_candidates_3.npy\")\n",
    "p_dataset = np.load(\"202407151312_GPT_NA/M2_data_3.npy\", allow_pickle=True)\n",
    "generated = np.load(\"202407151312_GPT_NA/generated_M2_3.npy\",allow_pickle=True)\n",
    "positions = np.load(\"202407151312_GPT_NA/positions_candidates_3.npy\",allow_pickle=True)\n",
    "valid = validity(generated)\n",
    "unique = np.unique(valid)\n",
    "n_dataset = np.unique(np.concatenate((p_dataset, unique), axis=0))\n",
    "datalist = n_dataset[np.where(np.isin(n_dataset, p_dataset, invert=True))[0]]\n",
    "print(len(datalist), len(results))\n",
    "indices = np.argsort(results)\n",
    "sorted_results = results[indices]\n",
    "sorted_layouts = datalist[indices]\n",
    "sorted_positions = positions[indices]\n",
    "print(sorted_results[:23])\n",
    "print(sorted_layouts[:23])\n",
    "print(sorted_positions[:23])"
   ]
  }
 ],
 "metadata": {
  "kernelspec": {
   "display_name": ".venv",
   "language": "python",
   "name": "python3"
  },
  "language_info": {
   "codemirror_mode": {
    "name": "ipython",
    "version": 3
   },
   "file_extension": ".py",
   "mimetype": "text/x-python",
   "name": "python",
   "nbconvert_exporter": "python",
   "pygments_lexer": "ipython3",
   "version": "3.11.9"
  }
 },
 "nbformat": 4,
 "nbformat_minor": 2
}
