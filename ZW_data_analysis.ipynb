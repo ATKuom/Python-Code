{
 "cells": [
  {
   "cell_type": "code",
   "execution_count": null,
   "metadata": {},
   "outputs": [],
   "source": [
    "### Dataset Analysis\n",
    "from thermo_validity import validity\n",
    "import numpy as np\n",
    "cutoff = 143.957\n",
    "p_dataset = np.load(\"202407151312_GPT_NA/M2_data_5.npy\", allow_pickle=True)\n",
    "generated = np.load(\"202407151312_GPT_NA/generated_M2_5.npy\",allow_pickle=True)\n",
    "results = np.load(\"202407151312_GPT_NA/results_candidates_5.npy\")\n",
    "print(len(p_dataset))\n",
    "valid = validity(generated)\n",
    "print(len(valid))\n",
    "unique = np.unique(valid)\n",
    "print(len(unique))\n",
    "n_dataset = np.unique(np.concatenate((p_dataset, unique), axis=0))\n",
    "print(len(n_dataset))\n",
    "datalist = n_dataset[np.where(np.isin(n_dataset, p_dataset, invert=True))[0]]\n",
    "\n",
    "print(len(datalist), len(results))\n",
    "\n",
    "nonzero_results = results[np.where(results > 0)]\n",
    "good_layouts = []\n",
    "good_results = []\n",
    "print(\"Optimization Results:\", len(nonzero_results), len(results))\n",
    "for i in range(len(results)):\n",
    "    if results[i] < cutoff and results[i] > 0:\n",
    "        good_layouts.append(datalist[i])\n",
    "        good_results.append(results[i])\n",
    "print(\"Good layouts\", len(good_layouts))\n",
    "good_layouts = np.asanyarray(good_layouts)\n",
    "good_results = np.asanyarray(good_results)\n",
    "indices = np.argsort(good_results)\n",
    "sorted_results = good_results[indices]\n",
    "sorted_layouts = good_layouts[indices]\n",
    "print(sorted_results[:10], sorted_layouts[:10])"
   ]
  },
  {
   "cell_type": "code",
   "execution_count": null,
   "metadata": {},
   "outputs": [],
   "source": [
    "### Broken ones\n",
    "results = np.load(\"202407151312_GPT_NA/results_candidates_3.npy\")\n",
    "p_dataset = np.load(\"202407151312_GPT_NA/M2_data_3.npy\", allow_pickle=True)\n",
    "generated = np.load(\"202407151312_GPT_NA/generated_M2_3.npy\",allow_pickle=True)\n",
    "positions = np.load(\"202407151312_GPT_NA/positions_candidates_3.npy\",allow_pickle=True)\n",
    "valid = validity(generated)\n",
    "unique = np.unique(valid)\n",
    "n_dataset = np.unique(np.concatenate((p_dataset, unique), axis=0))\n",
    "datalist = n_dataset[np.where(np.isin(n_dataset, p_dataset, invert=True))[0]]\n",
    "print(len(datalist), len(results))\n",
    "indices = np.argsort(results)\n",
    "sorted_results = results[indices]\n",
    "sorted_layouts = datalist[indices]\n",
    "sorted_positions = positions[indices]\n",
    "print(sorted_results[:23])\n",
    "print(sorted_layouts[:23])\n",
    "print(sorted_positions[:23])"
   ]
  }
 ],
 "metadata": {
  "language_info": {
   "name": "python"
  }
 },
 "nbformat": 4,
 "nbformat_minor": 2
}
