{
 "cells": [
  {
   "cell_type": "code",
   "execution_count": 1,
   "metadata": {},
   "outputs": [],
   "source": [
    "import numpy as np\n",
    "import torch\n",
    "import random\n",
    "import matplotlib.pyplot as plt\n",
    "from STL_RS import results_analysis\n",
    "from econ import economics\n",
    "from functions import (\n",
    "    lmtd,\n",
    "    h_s_fg,\n",
    "    fg_calculation,\n",
    "    HX_calculation,\n",
    "    cw_Tout,\n",
    "    decision_variable_placement,\n",
    "    Pressure_calculation,\n",
    "    tur_comp_pratio,\n",
    "    turbine_compressor_calculation,\n",
    "    cooler_calculation,\n",
    "    heater_calculation,\n",
    "    hx_side_selection,\n",
    "    h0_fg,\n",
    "    s0_fg,\n",
    "    hin_fg,\n",
    "    sin_fg,\n",
    "    h0,\n",
    "    s0,\n",
    "    T0,\n",
    "    P0,\n",
    "    K,\n",
    ")"
   ]
  },
  {
   "cell_type": "markdown",
   "metadata": {},
   "source": [
    "* The layouts from ML model is given in hot-encoded form with start(G) and end(E) tokens.\n",
    "* The unit information from layouts are obtained by slicing the matrix from both ends."
   ]
  },
  {
   "cell_type": "code",
   "execution_count": 2,
   "metadata": {},
   "outputs": [
    {
     "name": "stdout",
     "output_type": "stream",
     "text": [
      "tensor([[0., 1., 0., 0., 0., 0., 0., 0., 0., 0., 0., 0.],\n",
      "        [0., 0., 0., 0., 0., 1., 0., 0., 0., 0., 0., 0.],\n",
      "        [0., 0., 1., 0., 0., 0., 0., 0., 0., 0., 0., 0.],\n",
      "        [0., 0., 0., 1., 0., 0., 0., 0., 0., 0., 0., 0.],\n",
      "        [0., 0., 0., 0., 0., 1., 0., 0., 0., 0., 0., 0.],\n",
      "        [0., 0., 0., 0., 1., 0., 0., 0., 0., 0., 0., 0.]])\n"
     ]
    }
   ],
   "source": [
    "layout = torch.tensor(\n",
    "    [\n",
    "        [1.0, 0.0, 0.0, 0.0, 0.0, 0.0, 0.0, 0.0, 0.0, 0.0, 0.0, 0.0],\n",
    "        [0.0, 1.0, 0.0, 0.0, 0.0, 0.0, 0.0, 0.0, 0.0, 0.0, 0.0, 0.0],\n",
    "        [0.0, 0.0, 0.0, 0.0, 0.0, 1.0, 0.0, 0.0, 0.0, 0.0, 0.0, 0.0],\n",
    "        [0.0, 0.0, 1.0, 0.0, 0.0, 0.0, 0.0, 0.0, 0.0, 0.0, 0.0, 0.0],\n",
    "        [0.0, 0.0, 0.0, 1.0, 0.0, 0.0, 0.0, 0.0, 0.0, 0.0, 0.0, 0.0],\n",
    "        [0.0, 0.0, 0.0, 0.0, 0.0, 1.0, 0.0, 0.0, 0.0, 0.0, 0.0, 0.0],\n",
    "        [0.0, 0.0, 0.0, 0.0, 1.0, 0.0, 0.0, 0.0, 0.0, 0.0, 0.0, 0.0],\n",
    "        [0.0, 0.0, 0.0, 0.0, 0.0, 0.0, 0.0, 0.0, 0.0, 0.0, 0.0, 1.0],\n",
    "    ]\n",
    ")\n",
    "units = layout[1:-1]\n",
    "print(units)"
   ]
  },
  {
   "cell_type": "markdown",
   "metadata": {},
   "source": [
    "* x is a list of decision variable values for each particle in the swarm to optimize\n",
    "* Equipment information from the layout (units) and their respective decision variables are added to equipment list and bounds list\n",
    "* hx_token in here is used to limit the number of Heat exchanger decision variables as the same HX is present 2 times in the layout\n",
    "* The last bound is for the mass flow of sCO2 in the cycle"
   ]
  },
  {
   "cell_type": "code",
   "execution_count": 3,
   "metadata": {},
   "outputs": [
    {
     "name": "stdout",
     "output_type": "stream",
     "text": [
      "[1, 5, 2, 3, 5, 4]\n",
      "[(7400000.0, 30000000.0), (4, 11), (32, 38), (7400000.0, 30000000.0), (0, 0), (180, 530), (50, 160)]\n"
     ]
    }
   ],
   "source": [
    "# x =[] x starts of as an empty list for each optimization but for demonstration purposes for this file,\n",
    "# the values of base case are added to the list to help run the code for a particle \n",
    "x = [78.5e5,10.8,32.3,241.3e5,10.8,411.4,93.18]\n",
    "equipment = np.zeros(len(units)).tolist()\n",
    "bounds = list(range(len(units)))\n",
    "hx_token = 1\n",
    "for i in range(len(units)):\n",
    "    a = np.where(units[i] == 1)[0][0]\n",
    "    if a == 1:\n",
    "        equipment[i] = 1\n",
    "        bounds[i] = (74e5, 300e5)\n",
    "    elif a == 2:\n",
    "        equipment[i] = 2\n",
    "        bounds[i] = (32, 38)\n",
    "    elif a == 3:\n",
    "        equipment[i] = 3\n",
    "        bounds[i] = (74e5, 300e5)\n",
    "    elif a == 4:\n",
    "        equipment[i] = 4\n",
    "        bounds[i] = (180, 530)\n",
    "    elif a == 5:\n",
    "        equipment[i] = 5\n",
    "        if hx_token == 1:\n",
    "            bounds[i] = (4, 11)\n",
    "            hx_token = 0\n",
    "        else:\n",
    "            bounds[i] = (0, 0)\n",
    "    elif a == 6:\n",
    "        equipment[i] = 6\n",
    "bounds.append((50, 160))\n",
    "print(equipment)\n",
    "print(bounds)"
   ]
  },
  {
   "cell_type": "markdown",
   "metadata": {},
   "source": [
    "* The parameters of the PSO algorithm is set as desired\n",
    "* Number of decision variables(nv) is also obtained for PSO algorithm"
   ]
  },
  {
   "cell_type": "code",
   "execution_count": 4,
   "metadata": {},
   "outputs": [],
   "source": [
    "particle_size = 7 * len(bounds)\n",
    "iterations = 30\n",
    "nv = len(bounds)"
   ]
  },
  {
   "cell_type": "markdown",
   "metadata": {},
   "source": [
    "* The parameters of the model comes from isentropic efficiencies, cooling water tempeerature, flue gas(fg) information from GT topping cycle and lastly pressure drop assumptions for equipment.\n",
    "* A fix penalty value is placed to differentiate the infeasible solutions from feasible ones and stop further execution of optimization in any calculation step to save computational time.\n"
   ]
  },
  {
   "cell_type": "code",
   "execution_count": 5,
   "metadata": {},
   "outputs": [],
   "source": [
    "ntur = 85  # turbine efficiency     2019 Nabil\n",
    "ncomp = 82  # compressor efficiency 2019 Nabil\n",
    "cw_temp = 19  # °C\n",
    "fg_tin = 539  # °C\n",
    "fg_m = 68.75  # kg/s\n",
    "cooler_pdrop = 1e5\n",
    "heater_pdrop = 0\n",
    "hx_pdrop = 0.5e5\n",
    "PENALTY_VALUE = float(1e6)"
   ]
  },
  {
   "cell_type": "markdown",
   "metadata": {},
   "source": [
    "* Necessary arrays to hold the information for the whole system is created at the beginning of the optimization to avoid unnecessary complications.\n",
    "* All the information related to the equipment is stored in the equipment position of each of the arrays."
   ]
  },
  {
   "cell_type": "code",
   "execution_count": 6,
   "metadata": {},
   "outputs": [
    {
     "name": "stdout",
     "output_type": "stream",
     "text": [
      "(Equipment Position,Equipment Type) = [(0, 1), (1, 5), (2, 2), (3, 3), (4, 5), (5, 4)]\n"
     ]
    }
   ],
   "source": [
    "enumerated_equipment = list(enumerate(equipment))\n",
    "Temperatures = np.zeros(len(equipment))\n",
    "Pressures = np.zeros(len(equipment))\n",
    "enthalpies = np.zeros(len(equipment))\n",
    "entropies = np.zeros(len(equipment))\n",
    "exergies = np.zeros(len(equipment))\n",
    "w_comp = np.zeros(len(equipment))\n",
    "cost_comp = np.zeros(len(equipment))\n",
    "comp_pratio = np.ones(len(equipment))\n",
    "w_tur = np.zeros(len(equipment))\n",
    "cost_tur = np.zeros(len(equipment))\n",
    "tur_pratio = np.ones(len(equipment))\n",
    "q_cooler = np.zeros(len(equipment))\n",
    "cost_cooler = np.zeros(len(equipment))\n",
    "dissipation = np.zeros(len(equipment))\n",
    "q_heater = np.zeros(len(equipment))\n",
    "cost_heater = np.zeros(len(equipment))\n",
    "q_hx = np.zeros(len(equipment))\n",
    "cost_hx = np.zeros(len(equipment))\n",
    "print(\"(Equipment Position,Equipment Type) =\",enumerated_equipment)"
   ]
  },
  {
   "cell_type": "markdown",
   "metadata": {},
   "source": [
    "* The decision variables, which are picked based on bounds, are matched with the corresponding equipments\n",
    "* Turbines and compressors have their target pressures\n",
    "* Heaters and coolers have their target temperatures\n",
    "* Heat Exchangers have their DTmin or approach temperatures\n",
    "* Splitters have their split ratios\n",
    "* The layouts without any heat exchangers or splitters/mixers will get a default value of `1` which will not be used in the optimization\n"
   ]
  },
  {
   "cell_type": "code",
   "execution_count": 7,
   "metadata": {},
   "outputs": [
    {
     "name": "stdout",
     "output_type": "stream",
     "text": [
      "Pressures = [ 7850000.        0.        0. 24130000.        0.        0.]\n",
      "Temperatures = [  0.    0.   32.3   0.    0.  411.4]\n",
      "approach_temp = 10.8\n",
      "split_ratio = 1\n",
      "m = 93.18\n"
     ]
    }
   ],
   "source": [
    "(\n",
    "        Pressures,\n",
    "        Temperatures,\n",
    "        approach_temp,\n",
    "        split_ratio,\n",
    "        m,\n",
    "    )= decision_variable_placement(x, enumerated_equipment, Pressures, Temperatures)\n",
    "print(\"Pressures =\", Pressures)\n",
    "print(\"Temperatures =\", Temperatures)\n",
    "print(\"approach_temp =\", approach_temp)\n",
    "print(\"split_ratio =\", split_ratio)\n",
    "print(\"m =\", m)"
   ]
  },
  {
   "cell_type": "markdown",
   "metadata": {},
   "source": [
    "* After the initalization of equipment with decision variables, pressures of all units can be calculated.\n",
    "* The equipments have their fix pressure drops or outlet pressures which enables the calculation of the pressures for the following units if you know the previous one."
   ]
  },
  {
   "cell_type": "code",
   "execution_count": 8,
   "metadata": {},
   "outputs": [
    {
     "name": "stdout",
     "output_type": "stream",
     "text": [
      "Pressures = [ 7850000.  7800000.  7700000. 24130000. 24080000. 24080000.]\n"
     ]
    }
   ],
   "source": [
    "Pressures = Pressure_calculation(\n",
    "        Pressures, equipment, cooler_pdrop, heater_pdrop, hx_pdrop\n",
    "    )\n",
    "print(\"Pressures =\", Pressures)"
   ]
  }
 ],
 "metadata": {
  "kernelspec": {
   "display_name": ".venv",
   "language": "python",
   "name": "python3"
  },
  "language_info": {
   "codemirror_mode": {
    "name": "ipython",
    "version": 3
   },
   "file_extension": ".py",
   "mimetype": "text/x-python",
   "name": "python",
   "nbconvert_exporter": "python",
   "pygments_lexer": "ipython3",
   "version": "3.11.4"
  },
  "orig_nbformat": 4
 },
 "nbformat": 4,
 "nbformat_minor": 2
}
