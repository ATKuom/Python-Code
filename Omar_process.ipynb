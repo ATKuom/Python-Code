{
 "cells": [
  {
   "cell_type": "code",
   "execution_count": null,
   "id": "7e01c69c",
   "metadata": {},
   "outputs": [],
   "source": [
    "# T bounds 324-524 K\n",
    "# P bounds 0.1-36 atm\n",
    "# Steady-state operation with ideal mixing, ideal phase equilibrium, and ideal gas behaviour.\n",
    "import numpy as np\n",
    "class Stream():\n",
    "    def __init__(self, name, T, P, F,x1=0, x2=0, x3=0, x4=0):\n",
    "        # 1 Ethylene Oxide\n",
    "        # 2 Water\n",
    "        # 3 Ethylene Glycol\n",
    "        # 4 Diethylene Glycol\n",
    "        self.name = name\n",
    "        self.T = T\n",
    "        self.P = P\n",
    "        self.F = F\n",
    "        self.x1 = x1\n",
    "        self.x2 = x2\n",
    "        self.x3 = x3\n",
    "        self.x4 = x4\n",
    "\n",
    "    def saturation_pressure(self):\n",
    "        sat_data = np.array([\n",
    "            [10.884,3152,7.667],\n",
    "            [11.680,3828,-45.412],\n",
    "            [11.963,4764,-72.275],\n",
    "            [11.256,4655,103.551],\n",
    "            ])\n",
    "        psats= np.exp(sat_data[:,0] - sat_data[:,1]/(sat_data[:,2]-self.T))\n",
    "        \n",
    "    def liquid_vapor_molar_fractions(self):\n",
    "        lmdp = np.array([\n",
    "            [1.655, 0.126300,-0.0002286],\n",
    "            [75.22, -0.065050, 0],\n",
    "            [23.66, -0.018040, 0],\n",
    "            [13.59, -0.009986, 0],\n",
    "            ])\n",
    "        \n",
    "        liquid_molar_densities = lmdp[:,0] + lmdp[:,1]*self.T + lmdp[:,2]*self.T**2\n",
    "\n",
    "    def enthalpy(self):\n",
    "        hl_data = np.array([\n",
    "            [-143.8, 0.2037],\n",
    "            [-320, 0.1068],\n",
    "            [-519, 0.1924],\n",
    "            [-723, 0.3043],\n",
    "            ])\n",
    "\n",
    "        hv_data = np.array([\n",
    "            [-74.6, 0.0697],\n",
    "            [-252.3, 0.0348],\n",
    "            [-424.3, 0.1030],\n",
    "            [-603.4, 0.1823],\n",
    "            ])\n",
    "        \n",
    "        hls = hl_data[:,0] + hl_data[:,1]*self.T\n",
    "        hvs = hv_data[:,0] + hv_data[:,1]*self.T\n",
    "    \n",
    "def reaction(T,F,V,x1=0,x2=0,x3=0,x4=0):\n",
    "    C1 = x1*F/V\n",
    "    C2 = x2*F/V\n",
    "    C3 = x3*F/V\n",
    "    C4 = x4*F/V\n",
    "\n",
    "    R1 = 13706.91*exp(-8220/T)*C1*C2\n",
    "    R2 = 96341.59*exp(-8700/T)*C1*C3\n",
    "\n",
    "# T Kelvin, P atm, n kmol/h, x1 mol fraction of Ethylene oxide, x2 mol fraction of water\n",
    "Feed1 = Stream('Feed1', 298,2.4,26.32,x1=0,x2=1)\n",
    "Feed2 = Stream('Feed2', 298,2.4,27.62,x1=1,x2=0)\n",
    "\n"
   ]
  },
  {
   "cell_type": "code",
   "execution_count": 22,
   "id": "9cde8048",
   "metadata": {},
   "outputs": [
    {
     "data": {
      "text/plain": [
       "(array([ -83.0974, -288.1736, -461.6648, -632.3186]),\n",
       " array([ -53.8294, -241.9296, -393.606 , -549.0746]))"
      ]
     },
     "execution_count": 22,
     "metadata": {},
     "output_type": "execute_result"
    }
   ],
   "source": [
    "Feed1.saturation_pressure()\n",
    "Feed1.liquid_vapor_molar_fractions()\n",
    "Feed1.enthalpy()\n"
   ]
  }
 ],
 "metadata": {
  "kernelspec": {
   "display_name": ".venv",
   "language": "python",
   "name": "python3"
  },
  "language_info": {
   "codemirror_mode": {
    "name": "ipython",
    "version": 3
   },
   "file_extension": ".py",
   "mimetype": "text/x-python",
   "name": "python",
   "nbconvert_exporter": "python",
   "pygments_lexer": "ipython3",
   "version": "3.11.9"
  }
 },
 "nbformat": 4,
 "nbformat_minor": 5
}
