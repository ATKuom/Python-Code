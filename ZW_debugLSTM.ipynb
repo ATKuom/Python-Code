{
 "cells": [
  {
   "cell_type": "code",
   "execution_count": 1,
   "metadata": {},
   "outputs": [
    {
     "name": "stdout",
     "output_type": "stream",
     "text": [
      "Designs in the dataset v28D0_m1.npy : 1000\n"
     ]
    }
   ],
   "source": [
    "from thermo_validity import *\n",
    "from ZW_model import LSTM\n",
    "from ZW_utils import *\n",
    "from ZW_generation import *\n",
    "import torch.optim as optim\n",
    "import matplotlib.pyplot as plt\n",
    "from ZW_Opt import *\n",
    "from split_functions import (\n",
    "    one_hot_encoding,\n",
    "    bound_creation,\n",
    "    string_to_equipment,\n",
    "    enforced_uniqueness,\n",
    ")\n",
    "\n",
    "dataset_id = \"v28D0_m1.npy\"\n",
    "classes = std_classes\n",
    "data_split_ratio = 0.85\n",
    "batch_size = 100\n",
    "max_epochs = 30\n",
    "learning_rate = 0.001\n",
    "model = LSTM()\n",
    "loss_function = std_loss\n",
    "augmentation = False\n",
    "uniqueness = True\n",
    "N = 10_000\n",
    "cutoff = 143.957\n",
    "\n",
    "# save_path = make_dir(\n",
    "#     model,\n",
    "#     batch_size,\n",
    "#     learning_rate,\n",
    "# )\n",
    "dataset = dataloading(dataset_id)\n",
    "\n",
    "save_path = \"LSTM_NA\"\n",
    "# dataset = np.load(f\"{save_path}/generated+7_data.npy\", allow_pickle=True).tolist()\n",
    "if uniqueness:\n",
    "    equipments = string_to_equipment(dataset)\n",
    "    dataset, _ = enforced_uniqueness(equipments)\n",
    "\n",
    "\n",
    "def optimization(data_array, classes, save_path, save_name):\n",
    "    one_hot_tensors = np.array(one_hot_encoding(data_array, classes), dtype=object)\n",
    "    print(one_hot_tensors.shape)\n",
    "    valid_layouts = set()\n",
    "    penalty_layouts = set()\n",
    "    broken_layouts = set()\n",
    "    results = np.zeros(one_hot_tensors.shape[0])\n",
    "    positions = np.zeros(one_hot_tensors.shape[0], dtype=object)\n",
    "    for i in range(one_hot_tensors.shape[0]):\n",
    "        layout = one_hot_tensors[i]\n",
    "        equipment, bounds, x, splitter = bound_creation(layout)\n",
    "        # PSO Parameters\n",
    "        swarmsize_factor = 7\n",
    "        particle_size = swarmsize_factor * len(bounds)\n",
    "        if 5 in equipment:\n",
    "            particle_size += -1 * swarmsize_factor\n",
    "        if 9 in equipment:\n",
    "            particle_size += -2 * swarmsize_factor\n",
    "        iterations = 30\n",
    "        nv = len(bounds)\n",
    "        try:\n",
    "            a = PSO(\n",
    "                objective_function, bounds, particle_size, iterations, nv, equipment\n",
    "            )\n",
    "            if a.result < 1e6:\n",
    "                valid_layouts.add(i)\n",
    "                results[i] = a.result\n",
    "                positions[i] = a.points\n",
    "            else:\n",
    "                penalty_layouts.add(i)\n",
    "        except:\n",
    "            broken_layouts.add(i)\n",
    "        if i % 100 == 0:\n",
    "            print(\n",
    "                \"Valid/Penalty/Broken\",\n",
    "                len(valid_layouts),\n",
    "                len(penalty_layouts),\n",
    "                len(broken_layouts),\n",
    "            )\n",
    "    results_name = \"results_\" + save_name + \".npy\"\n",
    "    positions_name = \"positions_\" + save_name + \".npy\"\n",
    "    np.save(f\"{save_path}\\{results_name}\", results)\n",
    "    np.save(f\"{save_path}\\{positions_name}\", positions)\n",
    "    return results\n",
    "\n",
    "\n",
    "def optimization_filter(results, datalist, cutoff, save_name):\n",
    "    nonzero_results = results[np.where(results > 0)]\n",
    "    good_layouts = []\n",
    "    good_results = []\n",
    "    print(\"Optimization Results:\", len(nonzero_results), len(results))\n",
    "    for i in range(len(results)):\n",
    "        if results[i] < cutoff and results[i] > 0:\n",
    "            good_layouts.append(datalist[i])\n",
    "            good_results.append(results[i])\n",
    "    print(\"Good layouts\", len(good_layouts))\n",
    "    good_layouts = np.array(good_layouts, dtype=object)\n",
    "    np.save(\n",
    "        f\"{save_path}/{save_name}_good_layouts.npy\",\n",
    "        good_layouts,\n",
    "    )\n",
    "    return good_layouts, good_results"
   ]
  },
  {
   "cell_type": "code",
   "execution_count": 4,
   "metadata": {},
   "outputs": [
    {
     "name": "stdout",
     "output_type": "stream",
     "text": [
      "Designs in the dataset: 1000\n",
      "input_output_prep\n",
      "Padding\n",
      "labels\n",
      "Input shape: torch.Size([14556, 21, 12])\n",
      "Training set size: 12372\n",
      "Epoch [1/30], T.Loss: 2.1672, V.Loss: 2.0223, T.Acc: 16.77%, V.Acc: 24%\n",
      "Epoch [2/30], T.Loss: 1.9751, V.Loss: 1.9288, T.Acc: 25.88%, V.Acc: 27%\n",
      "Epoch [3/30], T.Loss: 1.8880, V.Loss: 1.8535, T.Acc: 27.29%, V.Acc: 26%\n",
      "Epoch [4/30], T.Loss: 1.8308, V.Loss: 1.8331, T.Acc: 27.80%, V.Acc: 26%\n",
      "Epoch [5/30], T.Loss: 1.8093, V.Loss: 1.8163, T.Acc: 28.21%, V.Acc: 26%\n",
      "Epoch [6/30], T.Loss: 1.7941, V.Loss: 1.8042, T.Acc: 29.33%, V.Acc: 28%\n",
      "Epoch [7/30], T.Loss: 1.7848, V.Loss: 1.7843, T.Acc: 29.98%, V.Acc: 28%\n",
      "Epoch [8/30], T.Loss: 1.7703, V.Loss: 1.7710, T.Acc: 31.61%, V.Acc: 29%\n",
      "Epoch [9/30], T.Loss: 1.7571, V.Loss: 1.7551, T.Acc: 32.00%, V.Acc: 32%\n",
      "Epoch [10/30], T.Loss: 1.7425, V.Loss: 1.7357, T.Acc: 33.45%, V.Acc: 34%\n",
      "Epoch [11/30], T.Loss: 1.7288, V.Loss: 1.7201, T.Acc: 34.46%, V.Acc: 34%\n",
      "Epoch [12/30], T.Loss: 1.7155, V.Loss: 1.7166, T.Acc: 34.64%, V.Acc: 35%\n",
      "Epoch [13/30], T.Loss: 1.6981, V.Loss: 1.7004, T.Acc: 35.31%, V.Acc: 35%\n",
      "Epoch [14/30], T.Loss: 1.6887, V.Loss: 1.6872, T.Acc: 35.70%, V.Acc: 35%\n",
      "Epoch [15/30], T.Loss: 1.6617, V.Loss: 1.6687, T.Acc: 36.83%, V.Acc: 35%\n",
      "Epoch [16/30], T.Loss: 1.6452, V.Loss: 1.6456, T.Acc: 37.29%, V.Acc: 36%\n",
      "Epoch [17/30], T.Loss: 1.6257, V.Loss: 1.6338, T.Acc: 37.39%, V.Acc: 35%\n",
      "Epoch [18/30], T.Loss: 1.6128, V.Loss: 1.6281, T.Acc: 38.13%, V.Acc: 36%\n",
      "Epoch [19/30], T.Loss: 1.6010, V.Loss: 1.6129, T.Acc: 38.05%, V.Acc: 36%\n",
      "Epoch [20/30], T.Loss: 1.5884, V.Loss: 1.6040, T.Acc: 38.95%, V.Acc: 36%\n",
      "Epoch [21/30], T.Loss: 1.5767, V.Loss: 1.5978, T.Acc: 39.35%, V.Acc: 36%\n",
      "Epoch [22/30], T.Loss: 1.5713, V.Loss: 1.5810, T.Acc: 39.21%, V.Acc: 37%\n",
      "Epoch [23/30], T.Loss: 1.5590, V.Loss: 1.5858, T.Acc: 39.27%, V.Acc: 37%\n",
      "Epoch [24/30], T.Loss: 1.5517, V.Loss: 1.5824, T.Acc: 39.73%, V.Acc: 36%\n",
      "Epoch [25/30], T.Loss: 1.5437, V.Loss: 1.5630, T.Acc: 39.92%, V.Acc: 38%\n",
      "Epoch [26/30], T.Loss: 1.5342, V.Loss: 1.5558, T.Acc: 40.35%, V.Acc: 38%\n",
      "Epoch [27/30], T.Loss: 1.5265, V.Loss: 1.5573, T.Acc: 40.50%, V.Acc: 38%\n",
      "Epoch [28/30], T.Loss: 1.5208, V.Loss: 1.5461, T.Acc: 40.83%, V.Acc: 39%\n",
      "Epoch [29/30], T.Loss: 1.5254, V.Loss: 1.5459, T.Acc: 40.60%, V.Acc: 39%\n",
      "Epoch [30/30], T.Loss: 1.5116, V.Loss: 1.5424, T.Acc: 40.80%, V.Acc: 39%\n"
     ]
    },
    {
     "data": {
      "text/plain": [
       "<Figure size 640x480 with 0 Axes>"
      ]
     },
     "metadata": {},
     "output_type": "display_data"
    }
   ],
   "source": [
    "for i in range(1):\n",
    "    train_loader, val_loader = data_loaders(\n",
    "        dataset, batch_size, data_split_ratio, classes, augmentation\n",
    "    )\n",
    "    model = LSTM()\n",
    "    optimizer = optim.Adam(model.parameters(), lr=learning_rate)\n",
    "    best_model, last_model, t_loss, v_loss = packed_training(\n",
    "        model, optimizer, loss_function, train_loader, val_loader, max_epochs\n",
    "    )\n",
    "    plot_name = str(i) + \"_loss.png\"\n",
    "    model_name = str(i) + \"_model.pt\"\n",
    "    data_name = str(i) + \"_data.npy\"\n",
    "    plt.plot(t_loss, label=\"Training Loss\")\n",
    "    plt.plot(v_loss, label=\"Validation Loss\")\n",
    "    plt.legend()\n",
    "    plt.savefig(f\"{save_path}/{plot_name}\")\n",
    "    plt.clf()\n",
    "    torch.save(best_model, f\"{save_path}/{model_name}\")\n",
    "    model.load_state_dict(best_model)\n",
    "    layout_list = generation(N, model=model)"
   ]
  },
  {
   "cell_type": "code",
   "execution_count": 5,
   "metadata": {},
   "outputs": [],
   "source": [
    "if uniqueness:\n",
    "        equipments = string_to_equipment(layout_list)"
   ]
  },
  {
   "cell_type": "code",
   "execution_count": 16,
   "metadata": {},
   "outputs": [],
   "source": [
    "from split_functions import equipments_to_strings\n",
    "for i, equipment in enumerate(equipments):\n",
    "    try:\n",
    "        if equipment[0] == 0:\n",
    "            equipment = equipment[1:-1]\n",
    "        indexes_of_T = np.where(np.array(equipment) == 1)[0]\n",
    "        possible_rotations = np.array(\n",
    "            [np.roll(equipment, -i) for i in indexes_of_T]\n",
    "        )\n",
    "        second_equipment = possible_rotations[:, 1]\n",
    "        rotation = np.argmin(second_equipment)\n",
    "        equipments[i] = possible_rotations[rotation].tolist()\n",
    "    except:\n",
    "        continue\n",
    "designs = equipments_to_strings(equipments)\n",
    "for i, design in enumerate(designs):\n",
    "    designs[i] = \"G\" + design + \"E\"\n",
    "for equipment in equipments:\n",
    "    equipment.insert(0, 0)\n",
    "    equipment.append(11)"
   ]
  },
  {
   "cell_type": "code",
   "execution_count": 127,
   "metadata": {},
   "outputs": [],
   "source": [
    "import matplotlib.pyplot as plt\n",
    "import config\n",
    "from ZW_generation import sampling\n",
    "from LSTM_batch_pack import LSTMtry\n",
    "model = LSTMtry(len(classes),32,12)\n",
    "model.load_state_dict(torch.load(config.MODEL_DIRECTORY/\"v21D10_m1.pt\"))\n",
    "prediction = torch.tensor(\n",
    "            [1.0, 0.0, 0.0, 0.0, 0.0, 0.0, 0.0, 0.0, 0.0, 0.0, 0.0, 0.0]\n",
    "        ).reshape(1, -1, 12)"
   ]
  },
  {
   "cell_type": "code",
   "execution_count": 177,
   "metadata": {},
   "outputs": [
    {
     "data": {
      "image/png": "[encoded data removed]",
      "text/plain": [
       "<Figure size 640x480 with 1 Axes>"
      ]
     },
     "metadata": {},
     "output_type": "display_data"
    }
   ],
   "source": [
    "model.eval()\n",
    "with torch.no_grad():\n",
    "    softmax_output = F.softmax(model(prediction), dim=1)\n",
    "    # softmax_output[0][2] = 0.0\n",
    "    # softmax_output[0][4] = 0.0\n",
    "    plt.bar(classes, softmax_output[0].numpy())\n",
    "    plt.ylabel(\"Probability Distribution\")\n",
    "    # plt.savefig(\"top75.png\")\n",
    "    plt.show()\n",
    "    # new_tensor[sampling(softmax_output)] = 1.0\n",
    "    # prediction = torch.cat(\n",
    "    #     (prediction[0], new_tensor.reshape(1, 12))\n",
    "    # ).reshape(1, -1, 12)\n",
    "    # print(prediction)"
   ]
  }
 ],
 "metadata": {
  "kernelspec": {
   "display_name": ".venv",
   "language": "python",
   "name": "python3"
  },
  "language_info": {
   "codemirror_mode": {
    "name": "ipython",
    "version": 3
   },
   "file_extension": ".py",
   "mimetype": "text/x-python",
   "name": "python",
   "nbconvert_exporter": "python",
   "pygments_lexer": "ipython3",
   "version": "3.11.9"
  }
 },
 "nbformat": 4,
 "nbformat_minor": 2
}
